{
 "cells": [
  {
   "cell_type": "markdown",
   "id": "abb6faef",
   "metadata": {},
   "source": [
    "# Python Translate Script - Jupyter Notebook"
   ]
  },
  {
   "cell_type": "markdown",
   "id": "44752d5d",
   "metadata": {},
   "source": [
    "# Required Packages"
   ]
  },
  {
   "cell_type": "code",
   "execution_count": 1,
   "id": "d33f117e",
   "metadata": {},
   "outputs": [],
   "source": [
    "##Install BioPython if not already installed##\n",
    "\n",
    "#Import these packages\n",
    "from Bio import SeqIO\n",
    "from Bio.Data import CodonTable\n",
    "import pandas as pd\n",
    "from Bio.Seq import Seq"
   ]
  },
  {
   "cell_type": "markdown",
   "id": "3a57aec4",
   "metadata": {},
   "source": [
    "# Functions "
   ]
  },
  {
   "cell_type": "markdown",
   "id": "1a50e69b",
   "metadata": {},
   "source": [
    "#1. Document Dr. X's function with comments and with markdown text.\n"
   ]
  },
  {
   "cell_type": "code",
   "execution_count": 2,
   "id": "cbbd3a8d",
   "metadata": {},
   "outputs": [],
   "source": [
    "def get_sequences_from_file(fasta_fn): #def is the keyword for defining our function, \"get_sequences_from_file\"\n",
    "    \n",
    "    \"\"\"Description: Takes a fasta file and reduces the amount of information to just genus/species name and sequence information\n",
    "\n",
    "    Arguments:\n",
    "        fasta_fn: the name of the fasta file in which you're interested in\n",
    "\n",
    "    Must Create before \"for loop\": empty dictonary for information to be stored in\n",
    "\n",
    "    For loop - For each record within the fasta file:\n",
    "            1. Splits each description,\n",
    "            2. Takes 2nd and 3rd positions of record and adds a space inbetween, create new object \"species name\"\n",
    "            3. Obtain the sequence information \n",
    "    \n",
    "    Return: A dictonary of records with genus name, species name and sequence information\n",
    "   \n",
    "    Example of usage:\n",
    "        >>> penguins_sequence_data = get_sequences_from_file(\"penguins_cytb.fasta\")\n",
    "        >>> print(penguins_sequence_data)\n",
    "    \n",
    "    \"\"\"\n",
    "    sequence_data_dict = {}\n",
    "    for record in SeqIO.parse(fasta_fn, \"fasta\"): #creating a for loop    \n",
    "        description = record.description.split() \n",
    "        species_name = description[1] + \" \" + description[2]\n",
    "        sequence_data_dict[species_name] = record.seq\n",
    "    return(sequence_data_dict) #ends the execution of a function and \"returns\" the value(s)"
   ]
  },
  {
   "cell_type": "code",
   "execution_count": 3,
   "id": "e1827d84",
   "metadata": {},
   "outputs": [
    {
     "name": "stdout",
     "output_type": "stream",
     "text": [
      "Help on function get_sequences_from_file in module __main__:\n",
      "\n",
      "get_sequences_from_file(fasta_fn)\n",
      "    Description: Takes a fasta file and reduces the amount of information to just genus/species name and sequence information\n",
      "    \n",
      "    Arguments:\n",
      "        fasta_fn: the name of the fasta file in which you're interested in\n",
      "    \n",
      "    Must Create before \"for loop\": empty dictonary for information to be stored in\n",
      "    \n",
      "    For loop - For each record within the fasta file:\n",
      "            1. Splits each description,\n",
      "            2. Takes 2nd and 3rd positions of record and adds a space inbetween, create new object \"species name\"\n",
      "            3. Obtain the sequence information \n",
      "    \n",
      "    Return: A dictonary of records with genus name, species name and sequence information\n",
      "    \n",
      "    Example of usage:\n",
      "        >>> penguins_sequence_data = get_sequences_from_file(\"penguins_cytb.fasta\")\n",
      "        >>> print(penguins_sequence_data)\n",
      "\n"
     ]
    }
   ],
   "source": [
    "#Show that our function documentation works!\n",
    "help(get_sequences_from_file)\n",
    "#Let's also load the example into our environment for later...\n",
    "penguins_sequence_data = get_sequences_from_file(\"penguins_cytb.fasta\")"
   ]
  },
  {
   "cell_type": "markdown",
   "id": "db963ff3",
   "metadata": {},
   "source": [
    "#2. Write a function that translates a string of nucleotides to amino acids based on Dr. X's pseudo-code suggestion.\n"
   ]
  },
  {
   "cell_type": "code",
   "execution_count": 4,
   "id": "74dfa95c",
   "metadata": {},
   "outputs": [
    {
     "name": "stdout",
     "output_type": "stream",
     "text": [
      "MAPNLRKSHPLLKMINNSLIDLPTPSNISAWWNFGSLLGICLTTQILTGLLLAMHYTADTTLAFSSVAHTCRNVQYGWLIRNLHANGASFFFICIYLHIGRGFYYGSYLYKETWNTGIILLLTLMATAFVGYVLPWGQMSFWGATVITNLFSAIPYIGQTLVEWTWGGFSVDNPTLTRFFALHFLLPFMIAGLTLIHLTFLHESGSNNPLGIVANSDKIPFHPYYSTKDILGFALMLLPLTTLALFSPNLLGDPENFTPANPLVTPPHIKPEWYFLFAYAILRSIPNKLGGVLALAASVLILFLIPLLHKSKQRTMAFRPLSQLLFWALVANLIILTWVGSQPVEHPFIIIGQLASLTYFTTLLILFPIAGALENKMLNH\n"
     ]
    }
   ],
   "source": [
    "def translate_function(string_nucleotides):\n",
    "    mito_table = CodonTable.unambiguous_dna_by_name[\"Vertebrate Mitochondrial\"]\n",
    "    codons = [(string_nucleotides[i:i + 3]) for i in range(0, len(string_nucleotides), 3)] # make codons a list iterate over every codon\n",
    "    aa_seq_list = [] # empty list we'll need to put amino acids into\n",
    "    stop_codons = [\"TAA\", \"TAG\", \"AGA\", \"AGG\"] \n",
    "    for codon in codons: \n",
    "        if codon not in stop_codons:\n",
    "            aa_seq_list.append(mito_table.forward_table[codon])\n",
    "        else:\n",
    "           aa_seq_list.append(\"\")\n",
    "    #print(mito_table.forward_table[codon]) # take every amino acid from codon table and append    \n",
    "    #print(aa_seq_string)\n",
    "    #aa_seq_list.pop()\n",
    "    aa_seq_string = ''.join(aa_seq_list)\n",
    "    return(aa_seq_string)\n",
    "    \n",
    "print(translate_function(penguins_sequence_data[\"Aptenodytes forsteri\"]))"
   ]
  },
  {
   "cell_type": "markdown",
   "id": "b7aa60b1",
   "metadata": {},
   "source": [
    "#3. Write an alternative translation function."
   ]
  },
  {
   "cell_type": "code",
   "execution_count": 5,
   "id": "b508056f",
   "metadata": {},
   "outputs": [
    {
     "name": "stdout",
     "output_type": "stream",
     "text": [
      "MAPNLRKSHPLLKMINNSLIDLPTPSNISAWWNFGSLLGICLTTQILTGLLLAMHYTADTTLAFSSVAHTCRNVQYGWLIRNLHANGASFFFICIYLHIGRGFYYGSYLYKETWNTGIILLLTLMATAFVGYVLPWGQMSFWGATVITNLFSAIPYIGQTLVEWTWGGFSVDNPTLTRFFALHFLLPFMIAGLTLIHLTFLHESGSNNPLGIVANSDKIPFHPYYSTKDILGFALMLLPLTTLALFSPNLLGDPENFTPANPLVTPPHIKPEWYFLFAYAILRSIPNKLGGVLALAASVLILFLIPLLHKSKQRTMAFRPLSQLLFWALVANLIILTWVGSQPVEHPFIIIGQLASLTYFTTLLILFPIAGALENKMLNH\n"
     ]
    }
   ],
   "source": [
    "def alternate_translate_function(string_nucleotides2):\n",
    "    alternate_mito_table = CodonTable.unambiguous_dna_by_name[\"Vertebrate Mitochondrial\"]\n",
    "    alternate_aa_seq = string_nucleotides2.translate(table = alternate_mito_table, cds = True)\n",
    "    alternate_aa_seq_string = str(alternate_aa_seq)\n",
    "    return(alternate_aa_seq_string)\n",
    "print(alternate_translate_function(penguins_sequence_data[\"Aptenodytes forsteri\"]))"
   ]
  },
  {
   "cell_type": "markdown",
   "id": "864a26cf",
   "metadata": {},
   "source": [
    "#4. Write a function that calculates the molecular weight of each amino acid sequence."
   ]
  },
  {
   "cell_type": "code",
   "execution_count": 6,
   "id": "c92085f4",
   "metadata": {},
   "outputs": [],
   "source": [
    "from Bio.SeqUtils.ProtParam import ProteinAnalysis"
   ]
  },
  {
   "cell_type": "code",
   "execution_count": 7,
   "id": "1315765d",
   "metadata": {},
   "outputs": [
    {
     "name": "stdout",
     "output_type": "stream",
     "text": [
      "MAPNLRKSHPLLKMINNSLIDLPTPSNISAWWNFGSLLGICLTTQILTGLLLAMHYTADTTLAFSSVAHTCRNVQYGWLIRNLHANGASFFFICIYLHIGRGFYYGSYLYKETWNTGIILLLTLMATAFVGYVLPWGQMSFWGATVITNLFSAIPYIGQTLVEWTWGGFSVDNPTLTRFFALHFLLPFMIAGLTLIHLTFLHESGSNNPLGIVANSDKIPFHPYYSTKDILGFALMLLPLTTLALFSPNLLGDPENFTPANPLVTPPHIKPEWYFLFAYAILRSIPNKLGGVLALAASVLILFLIPLLHKSKQRTMAFRPLSQLLFWALVANLIILTWVGSQPVEHPFIIIGQLASLTYFTTLLILFPIAGALENKMLNH\n"
     ]
    }
   ],
   "source": [
    "translate_A_forsteri = alternate_translate_function(penguins_sequence_data[\"Aptenodytes forsteri\"])\n",
    "print(translate_A_forsteri)"
   ]
  },
  {
   "cell_type": "code",
   "execution_count": 8,
   "id": "b4342f4a",
   "metadata": {},
   "outputs": [],
   "source": [
    "def compute_molecular_weight(nucleotide_seq_string2):\n",
    "    prot_analysis = ProteinAnalysis(nucleotide_seq_string2)\n",
    "    mol_weight = prot_analysis.molecular_weight()\n",
    "    return(mol_weight)"
   ]
  },
  {
   "cell_type": "code",
   "execution_count": 9,
   "id": "a7e2c9cf",
   "metadata": {},
   "outputs": [
    {
     "name": "stdout",
     "output_type": "stream",
     "text": [
      "42459.602100000004\n"
     ]
    }
   ],
   "source": [
    "mol_weight_A_forsteri = compute_molecular_weight(translate_A_forsteri)\n",
    "print(mol_weight_A_forsteri)"
   ]
  },
  {
   "cell_type": "markdown",
   "id": "db0bb8a7",
   "metadata": {},
   "source": [
    "#5. Write a function that computes the GC-content of each DNA sequence."
   ]
  },
  {
   "cell_type": "code",
   "execution_count": 11,
   "id": "3bad27e3",
   "metadata": {},
   "outputs": [],
   "source": [
    "from Bio.SeqUtils import GC"
   ]
  },
  {
   "cell_type": "code",
   "execution_count": 41,
   "id": "b5211e95",
   "metadata": {},
   "outputs": [],
   "source": [
    "def GC(sequence):\n",
    "    \"\"\"Calculate G+C content, return percentage (as float between 0 and 100).\n",
    "    Copes mixed case sequences, and with the ambiguous nucleotide S (G or C)\n",
    "    when counting the G and C content.  The percentage is calculated against\n",
    "    the full length, e.g.:\n",
    "    >>> from Bio.SeqUtils import GC\n",
    "    >>> GC(\"ACTGN\")\n",
    "    40.0\n",
    "    Note that this will return zero for an empty sequence.\n",
    "    \"\"\"\n",
    "    gc = sum(sequence.count(x) for x in [\"G\", \"C\", \"g\", \"c\", \"S\", \"s\"])\n",
    "    try:\n",
    "        return gc / len(sequence)\n",
    "    except ZeroDivisionError:\n",
    "        return 0.0"
   ]
  },
  {
   "cell_type": "code",
   "execution_count": 42,
   "id": "daba7eaa",
   "metadata": {},
   "outputs": [
    {
     "name": "stdout",
     "output_type": "stream",
     "text": [
      "ATGGCCCCAAATCTCCGAAAATCCCATCCCCTCCTAAAAATAATTAATAACTCCCTAATCGACCTGCCCACCCCATCAAACATCTCTGCCTGATGAAACTTCGGATCTCTCCTAGGCATCTGCCTAACTACACAAATTTTAACCGGCCTCCTACTAGCTATACACTACACTGCAGACACAACCCTAGCCTTCTCCTCAGTCGCCCACACATGCCGAAACGTACAGTACGGCTGACTGATCCGCAACCTACATGCAAACGGAGCATCATTCTTCTTCATCTGCATCTATCTCCACATTGGCCGTGGATTTTACTATGGCTCCTATCTATACAAAGAAACCTGAAACACAGGCATTATCCTCCTACTCACCCTCATGGCAACCGCCTTCGTAGGCTACGTCCTACCATGAGGACAAATATCTTTCTGAGGAGCCACAGTCATTACCAACTTATTCTCAGCCATCCCTTACATTGGCCAAACCCTCGTAGAATGGACCTGAGGTGGCTTTTCAGTAGACAACCCCACATTAACCCGATTTTTCGCACTACACTTCCTCCTTCCCTTCATAATCGCAGGCCTCACCCTCATCCACCTCACCTTCCTCCACGAATCAGGCTCAAATAACCCACTGGGCATCGTAGCTAACTCCGATAAAATCCCATTCCACCCCTACTACTCCACAAAAGACATCCTAGGATTCGCACTCATACTTCTCCCACTAACAACCCTTGCCCTATTCTCCCCCAACCTACTAGGAGACCCAGAAAACTTCACCCCAGCAAACCCACTAGTCACACCCCCACACATCAAACCAGAATGATACTTCCTATTTGCATACGCTATCCTACGCTCAATCCCCAACAAACTAGGAGGAGTCCTTGCCCTAGCAGCATCCGTGCTAATCCTATTCCTAATCCCTCTCCTCCACAAATCCAAGCAACGCACAATAGCTTTCCGCCCTCTCTCCCAACTCCTATTCTGAGCCCTAGTAGCCAATCTCATTATCCTAACATGAGTAGGTAGCCAACCAGTAGAACACCCCTTCATCATCATCGGCCAACTAGCCTCCCTCACTTACTTCACCACCCTCCTGATCCTCTTCCCCATTGCTGGGGCCCTAGAAAACAAAATACTCAACCATTAA\n"
     ]
    }
   ],
   "source": [
    "nucleotide_A_forsteri = penguins_sequence_data[\"Aptenodytes forsteri\"]\n",
    "nucleotide_A_forsteri = str(nucleotide_A_forsteri)\n",
    "print(nucleotide_A_forsteri)"
   ]
  },
  {
   "cell_type": "code",
   "execution_count": 43,
   "id": "d5320564",
   "metadata": {},
   "outputs": [
    {
     "data": {
      "text/plain": [
       "0.48381452318460194"
      ]
     },
     "execution_count": 43,
     "metadata": {},
     "output_type": "execute_result"
    }
   ],
   "source": [
    "GC(nucleotide_A_forsteri)"
   ]
  },
  {
   "cell_type": "code",
   "execution_count": null,
   "id": "86096e1a",
   "metadata": {},
   "outputs": [],
   "source": []
  },
  {
   "cell_type": "code",
   "execution_count": null,
   "id": "007ae107",
   "metadata": {},
   "outputs": [],
   "source": [
    "translation_string = ''\n",
    "for i in list(penguins_sequence_data.values()):\n",
    "    translation_string += i.translate(table=mito_table, cds=True)"
   ]
  },
  {
   "cell_type": "code",
   "execution_count": 10,
   "id": "4860ae9c",
   "metadata": {},
   "outputs": [],
   "source": [
    "def new_translation(codons): \n",
    "    translation_data_dict = {}\n",
    "    for record in SeqIO.parse(codons, \"fasta\"):    \n",
    "        description = record.description.split() \n",
    "        species_name = description[1] + \" \" + description[2]\n",
    "        translation_data_dict[species_name] = record.seq.translate(table=mito_table, cds=True)[1:]\n",
    "    return(translation_data_dict) "
   ]
  },
  {
   "cell_type": "code",
   "execution_count": null,
   "id": "5d95dbf8",
   "metadata": {},
   "outputs": [],
   "source": [
    "penguins_translation = new_translation(\"penguins_cytb.fasta\")\n",
    "print(penguins_translation)"
   ]
  }
 ],
 "metadata": {
  "kernelspec": {
   "display_name": "Python 3 (ipykernel)",
   "language": "python",
   "name": "python3"
  },
  "language_info": {
   "codemirror_mode": {
    "name": "ipython",
    "version": 3
   },
   "file_extension": ".py",
   "mimetype": "text/x-python",
   "name": "python",
   "nbconvert_exporter": "python",
   "pygments_lexer": "ipython3",
   "version": "3.9.7"
  }
 },
 "nbformat": 4,
 "nbformat_minor": 5
}
