{
 "cells": [
  {
   "cell_type": "markdown",
   "id": "abb6faef",
   "metadata": {},
   "source": [
    "# Python Translate Script - Jupyter Notebook"
   ]
  },
  {
   "cell_type": "markdown",
   "id": "b864226d",
   "metadata": {},
   "source": [
    "# Description\n",
    "The objective of this jupyter notebook is to complete the tasks of Dr. X's python script. Tasks such as documenting functions, completing functions from pseudo-code, creating new data based upon provided data (and adding that information to an existing datafile) and finally, visualizing the data. "
   ]
  },
  {
   "cell_type": "markdown",
   "id": "44752d5d",
   "metadata": {},
   "source": [
    "# Dependencies\n",
    "Biopython installation  \n",
    "Pandas installation \n",
    "  \n",
    "from Bio import SeqIO;  \n",
    "from Bio.Data import CodonTable;  \n",
    "import pandas as pd;  \n",
    "from Bio.Seq import Seq;  \n",
    "from Bio.SeqUtils.ProtParam import ProteinAnalysis;  \n",
    "from Bio.SeqUtils import GC;    \n",
    "import seaborn as sns"
   ]
  },
  {
   "cell_type": "markdown",
   "id": "f37b5f36",
   "metadata": {},
   "source": [
    "# Authors\n",
    "Dr. X and Tyler Foster"
   ]
  },
  {
   "cell_type": "markdown",
   "id": "93ef03aa",
   "metadata": {},
   "source": [
    "# Date\n",
    "April 25, 2022"
   ]
  },
  {
   "cell_type": "code",
   "execution_count": 1,
   "id": "d33f117e",
   "metadata": {},
   "outputs": [],
   "source": [
    "##Install BioPython and Pandas if not already installed##\n",
    "\n",
    "#Import the dependencies listed above:\n",
    "from Bio import SeqIO\n",
    "from Bio.Data import CodonTable\n",
    "import pandas as pd\n",
    "from Bio.Seq import Seq\n",
    "from Bio.SeqUtils.ProtParam import ProteinAnalysis\n",
    "from Bio.SeqUtils import GC\n",
    "import seaborn as sns"
   ]
  },
  {
   "cell_type": "markdown",
   "id": "3a57aec4",
   "metadata": {},
   "source": [
    "# Functions "
   ]
  },
  {
   "cell_type": "markdown",
   "id": "1a50e69b",
   "metadata": {},
   "source": [
    "### 1. Document Dr. X's function with comments and with markdown text.\n"
   ]
  },
  {
   "cell_type": "markdown",
   "id": "acee3350",
   "metadata": {},
   "source": [
    "### Function:  *get_sequences_from_file(fasta_fn)*\n",
    "\n",
    "**Description:** Takes a fasta file and reduces the amount of information to just genus/species name and sequence information\n",
    "\n",
    "**Arguments:**  \n",
    "> 1. fasta_fn: fasta file to obtain sequences from\n",
    "\n",
    "**Create before \"for loop\":** \n",
    "> 1. Empty dictonary for information to be stored in\n",
    "\n",
    "**For loop - For each record within the fasta file:**\n",
    "> 1. Splits each description,\n",
    "> 2. Takes 2nd and 3rd positions of record and adds a space inbetween, create new object \"species name\"\n",
    "> 3. Obtain the sequence information \n",
    "    \n",
    "**Return:** A dictonary of records with genus name, species name and sequence information\n",
    "   \n",
    "**Example of usage:**  \n",
    ">penguins_sequence_data = get_sequences_from_file(\"penguins_cytb.fasta\")  \n",
    ">print(penguins_sequence_data)"
   ]
  },
  {
   "cell_type": "code",
   "execution_count": 2,
   "id": "cbbd3a8d",
   "metadata": {},
   "outputs": [],
   "source": [
    "def get_sequences_from_file(fasta_fn): #def is the keyword for defining our function, \"get_sequences_from_file(fasta_fn)\"\n",
    "    sequence_data_dict = {} #empty dictionary\n",
    "    for record in SeqIO.parse(fasta_fn, \"fasta\"): #creating a for loop    \n",
    "        description = record.description.split() \n",
    "        species_name = description[1] + \" \" + description[2]\n",
    "        sequence_data_dict[species_name] = record.seq\n",
    "    return(sequence_data_dict) #ends the execution of a function and \"returns\" the value(s)"
   ]
  },
  {
   "cell_type": "code",
   "execution_count": 3,
   "id": "e1827d84",
   "metadata": {},
   "outputs": [
    {
     "name": "stdout",
     "output_type": "stream",
     "text": [
      "{'Aptenodytes forsteri': Seq('ATGGCCCCAAATCTCCGAAAATCCCATCCCCTCCTAAAAATAATTAATAACTCC...TAA'), 'Aptenodytes patagonicus': Seq('ATGGCCCCAAACCTCCGAAAATCCCATCCTCTCCTAAAAATAATTAATAACTCC...TAA'), 'Eudyptes chrysocome': Seq('ATGGCCCCCAACCTCCGAAAATCCCACCCCCTCCTAAAAACAATCAATAACTCC...TAA'), 'Eudyptes chrysolophus': Seq('ATGGCCCCCAACCTCCGAAAATCCCACCCCCTCCTAAAAACAATCAATAACTCC...TAA'), 'Eudyptes sclateri': Seq('ATGGCCCCCAACCTCCGAAAATCCCACCCCCTCCTAAAAACAATCAATAACTCC...TAA'), 'Eudyptula minor': Seq('ATGGCCCCCAACCTCCGAAAATCTCACCCCCTCCTAAAAATAATCAACAACTCT...TAA'), 'Pygoscelis adeliae': Seq('ATGGCCCCCAACCTCCGAAAATCCCACCCTCTCCTAAAAATAATTAACAACTCC...TAA'), 'Pygoscelis antarctica': Seq('ATGGCCCCCAACCTCCGAAAATCCCACCCTCTCCTAAAAATAATCAACAACTCC...TAG'), 'Pygoscelis papua': Seq('ATGGCCCCCAACCTTCGAAAATCCCACCCTCTCCTAAAAATAATCAACAAATCC...TAG'), 'Spheniscus demersus': Seq('ATGGCCCCCAACCTCCGAAAATCCCACCCTCTCCTAAAAACAATCAACAACTCC...TAA'), 'Spheniscus humboldti': Seq('ATGGCCCCCAACCTCCGAAAATCCCACCCTCTCCTAAAAACAATCAACAACTCC...TAA'), 'Spheniscus magellanicus': Seq('ATGGCCCCCAACCTCCGAAAATCCCACCCTCTCCTAAAAACAATCAACAACTCC...TAA')}\n"
     ]
    }
   ],
   "source": [
    "#Let's also load the example into our environment for later examples...\n",
    "penguins_sequence_data = get_sequences_from_file(\"penguins_cytb.fasta\")\n",
    "print(penguins_sequence_data)"
   ]
  },
  {
   "cell_type": "markdown",
   "id": "db963ff3",
   "metadata": {},
   "source": [
    "### 2. Write a function that translates a string of nucleotides to amino acids based on Dr. X's pseudo-code suggestion.\n"
   ]
  },
  {
   "cell_type": "markdown",
   "id": "cee1b73b",
   "metadata": {},
   "source": [
    "### Function: *translate_function(string_nucleotides)*\n",
    "**Description:** Takes a nucleotide sequence and translates that information to a string of amino acids\n",
    "\n",
    "**Arguments:**\n",
    "> 1. string_nucleotides: string of nucleotides\n",
    "\n",
    "**Create before \"for loop\":** \n",
    "   > 1. mito_table object to connect a 3-nucleotide sequence to an amino acid\n",
    "   > 2. codons object that iterates over the entire string of nucleotides and defines a codon at every 3rd position\n",
    "   > 3. Empty list for information to be stored in\n",
    "   > 4. stop codons object that defines which of the above amino acids are stop codons\n",
    "\n",
    "**For loop**\n",
    "   > 1. For a specific codon in our codons list -\n",
    "   > 2. If that codon *is not* a stop codon:\n",
    "   > 3. Append the list of sequences using the mito_table for amino acid information\n",
    "\n",
    "**Create after \"for loop\":**\n",
    "   > 1. Creating a string by joining ' ' with the list of amino acid sequence\n",
    "    \n",
    "**Return:** A string of amino acid sequence\n",
    "   \n",
    "**Example of usage:**   \n",
    ">print(translate_function(penguins_sequence_data[\"Aptenodytes forsteri\"]))\n",
    "\n",
    "The following links were used to help writing this function:  \n",
    "- [Convert List to String](https://stackoverflow.com/questions/5618878/how-to-convert-list-to-string)\n",
    "- [Understanding for loops](https://www.learnpython.org/en/Loops)\n",
    "- [Converting DNA to Amino Acids](https://www.learnpython.org/en/Loops)"
   ]
  },
  {
   "cell_type": "code",
   "execution_count": 4,
   "id": "74dfa95c",
   "metadata": {},
   "outputs": [],
   "source": [
    "def translate_function(string_nucleotides): #defining our function\n",
    "    mito_table = CodonTable.unambiguous_dna_by_name[\"Vertebrate Mitochondrial\"]\n",
    "    codons = [(string_nucleotides[i:i + 3]) for i in range(0, len(string_nucleotides), 3)]\n",
    "    amino_acid_seq_list = [] #empty list to put amino acid sequence into\n",
    "    stop_codons = [\"TAA\", \"TAG\", \"AGA\", \"AGG\"] #defining our stop codons\n",
    "    for codon in codons: \n",
    "        if codon not in stop_codons:\n",
    "            amino_acid_seq_list.append(mito_table.forward_table[codon])\n",
    "    amino_acid_seq_string = ''.join(amino_acid_seq_list)\n",
    "    return(amino_acid_seq_string) #ends the execution of a function and \"returns\" the value(s)"
   ]
  },
  {
   "cell_type": "code",
   "execution_count": 5,
   "id": "4f61904c",
   "metadata": {},
   "outputs": [
    {
     "name": "stdout",
     "output_type": "stream",
     "text": [
      "MAPNLRKSHPLLKMINNSLIDLPTPSNISAWWNFGSLLGICLTTQILTGLLLAMHYTADTTLAFSSVAHTCRNVQYGWLIRNLHANGASFFFICIYLHIGRGFYYGSYLYKETWNTGIILLLTLMATAFVGYVLPWGQMSFWGATVITNLFSAIPYIGQTLVEWTWGGFSVDNPTLTRFFALHFLLPFMIAGLTLIHLTFLHESGSNNPLGIVANSDKIPFHPYYSTKDILGFALMLLPLTTLALFSPNLLGDPENFTPANPLVTPPHIKPEWYFLFAYAILRSIPNKLGGVLALAASVLILFLIPLLHKSKQRTMAFRPLSQLLFWALVANLIILTWVGSQPVEHPFIIIGQLASLTYFTTLLILFPIAGALENKMLNH\n"
     ]
    }
   ],
   "source": [
    "#Testing our function example\n",
    "print(translate_function(penguins_sequence_data[\"Aptenodytes forsteri\"]))"
   ]
  },
  {
   "cell_type": "markdown",
   "id": "b7aa60b1",
   "metadata": {},
   "source": [
    "### 3. Write an alternative translation function."
   ]
  },
  {
   "cell_type": "markdown",
   "id": "8ba8bcba",
   "metadata": {},
   "source": [
    "### Function: *alternate_translate_function(string_nucleotides2)*\n",
    "**Description:** Takes a nucleotide sequence and translates that information to a string of amino acids\n",
    "\n",
    "**Arguments:**\n",
    "> 1. string_nucleotides2: string of nucleotides\n",
    "\n",
    "**Must Create:**\n",
    "> 1. alternate_mito table object, similar to the mito table object above\n",
    "> 2. alternate_amino_acid sequence using the alternate mito table object and stating cds = 'True'\n",
    "    - \"*If True, this checks the sequence starts with a valid alternative start codon (which will be translated as methionine, M), that the sequence length is a multiple of three, and that there is a single in frame stop codon at the end (this will be excluded from the protein sequence, regardless of the to_stop option). If these tests fail, an exception is raised.*\" [BioSeq module](https://biopython.org/docs/1.75/api/Bio.Seq.html)\n",
    "> 3. alternate_amino_acid_seq_string object that converts the alternate amino acid sequence to a string\n",
    "    \n",
    "**Return:** A string of amino acid sequence\n",
    "   \n",
    "**Example of usage:**   \n",
    ">print(alternate_translate_function(penguins_sequence_data[\"Aptenodytes forsteri\"]))\n",
    "\n",
    "The following link was used to help writing this function:  \n",
    "- [BioSeq module](https://biopython.org/docs/1.75/api/Bio.Seq.html)"
   ]
  },
  {
   "cell_type": "code",
   "execution_count": 6,
   "id": "b508056f",
   "metadata": {},
   "outputs": [],
   "source": [
    "def alternate_translate_function(string_nucleotides2): #defining our function\n",
    "    alternate_mito_table = CodonTable.unambiguous_dna_by_name[\"Vertebrate Mitochondrial\"]\n",
    "    alternate_amino_acid_seq = string_nucleotides2.translate(table = alternate_mito_table, cds = True)\n",
    "    alternate_amino_acid_seq_string = str(alternate_amino_acid_seq) #convert to string\n",
    "    return(alternate_amino_acid_seq_string)  #ends the execution of a function and \"returns\" the value(s)"
   ]
  },
  {
   "cell_type": "code",
   "execution_count": 7,
   "id": "aa6569aa",
   "metadata": {},
   "outputs": [
    {
     "name": "stdout",
     "output_type": "stream",
     "text": [
      "MAPNLRKSHPLLKMINNSLIDLPTPSNISAWWNFGSLLGICLTTQILTGLLLAMHYTADTTLAFSSVAHTCRNVQYGWLIRNLHANGASFFFICIYLHIGRGFYYGSYLYKETWNTGIILLLTLMATAFVGYVLPWGQMSFWGATVITNLFSAIPYIGQTLVEWTWGGFSVDNPTLTRFFALHFLLPFMIAGLTLIHLTFLHESGSNNPLGIVANSDKIPFHPYYSTKDILGFALMLLPLTTLALFSPNLLGDPENFTPANPLVTPPHIKPEWYFLFAYAILRSIPNKLGGVLALAASVLILFLIPLLHKSKQRTMAFRPLSQLLFWALVANLIILTWVGSQPVEHPFIIIGQLASLTYFTTLLILFPIAGALENKMLNH\n"
     ]
    }
   ],
   "source": [
    "#Testing our function example\n",
    "print(alternate_translate_function(penguins_sequence_data[\"Aptenodytes forsteri\"]))"
   ]
  },
  {
   "cell_type": "markdown",
   "id": "864a26cf",
   "metadata": {},
   "source": [
    "### 4. Write a function that calculates the molecular weight of each amino acid sequence."
   ]
  },
  {
   "cell_type": "markdown",
   "id": "71dc98b3",
   "metadata": {},
   "source": [
    "### Function: *compute_molecular_weight(amino_acid_sequence)*\n",
    "**Description:** Takes a nucleotide sequence and translates that information to a string of amino acids\n",
    "\n",
    "**Arguments:**\n",
    "> 1. amino_acid_sequence: which is string of amino acids (created from either function 2 or 3)\n",
    "\n",
    "**Must Create:**\n",
    "> 1. protein_analysis object uses ProteinAnalysis package on the sequence of amino acid\n",
    "> 2. mol_weight object that calculates the molecular weight of the protein_analysis object created\n",
    "    \n",
    "**Return:** The molecular weight of the amino acid sequence provided\n",
    "   \n",
    "**Example of usage:**   \n",
    ">translate_A_forsteri = alternate_translate_function(penguins_sequence_data[\"Aptenodytes forsteri\"])  \n",
    ">mol_weight_A_forsteri = compute_molecular_weight(translate_A_forsteri)  \n",
    ">print(mol_weight_A_forsteri)\n",
    "\n",
    "The following link was used to help writing this function:  \n",
    "- [ProtParam module](https://biopython.org/wiki/ProtParam)"
   ]
  },
  {
   "cell_type": "code",
   "execution_count": 8,
   "id": "b4342f4a",
   "metadata": {},
   "outputs": [],
   "source": [
    "def compute_molecular_weight(amino_acid_sequence):\n",
    "    protein_analysis = ProteinAnalysis(amino_acid_sequence)\n",
    "    mol_weight = protein_analysis.molecular_weight()\n",
    "    return(mol_weight)"
   ]
  },
  {
   "cell_type": "code",
   "execution_count": 9,
   "id": "1315765d",
   "metadata": {},
   "outputs": [
    {
     "data": {
      "text/plain": [
       "42459.602100000004"
      ]
     },
     "execution_count": 9,
     "metadata": {},
     "output_type": "execute_result"
    }
   ],
   "source": [
    "#Testing our function example\n",
    "translate_A_forsteri = alternate_translate_function(penguins_sequence_data[\"Aptenodytes forsteri\"])  \n",
    "compute_molecular_weight(translate_A_forsteri)"
   ]
  },
  {
   "cell_type": "markdown",
   "id": "db0bb8a7",
   "metadata": {},
   "source": [
    "### 5. Write a function that computes the GC-content of each DNA sequence."
   ]
  },
  {
   "cell_type": "markdown",
   "id": "eb2d8a88",
   "metadata": {},
   "source": [
    "### Function: *GC(sequence)*\n",
    "**Description:** Takes a nucleotide sequence and translates that information to a string of amino acids\n",
    "\n",
    "**Arguments:**\n",
    "> 1. sequence: sequence of nucleotides \n",
    "\n",
    "**Must Create:**\n",
    "> 1. gc object that counts the number of nucleotides of interest for a given sequence and sums the count\n",
    "    \n",
    "**Return:** Returning the GC content as a ratio by taking the gc object and dividing by the length of sequence fed into function\n",
    "   \n",
    "**Example of usage:**   \n",
    "> nucleotide_A_forsteri = penguins_sequence_data[\"Aptenodytes forsteri\"]  \n",
    "> nucleotide_A_forsteri = str(nucleotide_A_forsteri)  \n",
    "> GC(nucleotide_A_forsteri)\n",
    "\n",
    "The following link was used to help writing this function:  \n",
    "- [GC Content](https://github.com/biopython/biopython/blob/master/Bio/SeqUtils/__init__.py)"
   ]
  },
  {
   "cell_type": "code",
   "execution_count": 10,
   "id": "b5211e95",
   "metadata": {},
   "outputs": [],
   "source": [
    "def GC(sequence): #defining our function\n",
    "    gc = sum(sequence.count(x) for x in [\"G\", \"C\", \"g\", \"c\", \"S\", \"s\"])\n",
    "    return gc / len(sequence) #ends the execution of a function and \"returns\" the value(s)"
   ]
  },
  {
   "cell_type": "code",
   "execution_count": 11,
   "id": "daba7eaa",
   "metadata": {},
   "outputs": [
    {
     "data": {
      "text/plain": [
       "0.48381452318460194"
      ]
     },
     "execution_count": 11,
     "metadata": {},
     "output_type": "execute_result"
    }
   ],
   "source": [
    "#Testing our function example\n",
    "nucleotide_A_forsteri = penguins_sequence_data[\"Aptenodytes forsteri\"]\n",
    "nucleotide_A_forsteri = str(nucleotide_A_forsteri)\n",
    "GC(nucleotide_A_forsteri)"
   ]
  },
  {
   "cell_type": "markdown",
   "id": "b7f06cdc",
   "metadata": {},
   "source": [
    "# Main"
   ]
  },
  {
   "cell_type": "code",
   "execution_count": 12,
   "id": "fa62dcb1",
   "metadata": {},
   "outputs": [
    {
     "name": "stdout",
     "output_type": "stream",
     "text": [
      "{'Aptenodytes forsteri': Seq('ATGGCCCCAAATCTCCGAAAATCCCATCCCCTCCTAAAAATAATTAATAACTCC...TAA'), 'Aptenodytes patagonicus': Seq('ATGGCCCCAAACCTCCGAAAATCCCATCCTCTCCTAAAAATAATTAATAACTCC...TAA'), 'Eudyptes chrysocome': Seq('ATGGCCCCCAACCTCCGAAAATCCCACCCCCTCCTAAAAACAATCAATAACTCC...TAA'), 'Eudyptes chrysolophus': Seq('ATGGCCCCCAACCTCCGAAAATCCCACCCCCTCCTAAAAACAATCAATAACTCC...TAA'), 'Eudyptes sclateri': Seq('ATGGCCCCCAACCTCCGAAAATCCCACCCCCTCCTAAAAACAATCAATAACTCC...TAA'), 'Eudyptula minor': Seq('ATGGCCCCCAACCTCCGAAAATCTCACCCCCTCCTAAAAATAATCAACAACTCT...TAA'), 'Pygoscelis adeliae': Seq('ATGGCCCCCAACCTCCGAAAATCCCACCCTCTCCTAAAAATAATTAACAACTCC...TAA'), 'Pygoscelis antarctica': Seq('ATGGCCCCCAACCTCCGAAAATCCCACCCTCTCCTAAAAATAATCAACAACTCC...TAG'), 'Pygoscelis papua': Seq('ATGGCCCCCAACCTTCGAAAATCCCACCCTCTCCTAAAAATAATCAACAAATCC...TAG'), 'Spheniscus demersus': Seq('ATGGCCCCCAACCTCCGAAAATCCCACCCTCTCCTAAAAACAATCAACAACTCC...TAA'), 'Spheniscus humboldti': Seq('ATGGCCCCCAACCTCCGAAAATCCCACCCTCTCCTAAAAACAATCAACAACTCC...TAA'), 'Spheniscus magellanicus': Seq('ATGGCCCCCAACCTCCGAAAATCCCACCCTCTCCTAAAAACAATCAACAACTCC...TAA')}\n"
     ]
    }
   ],
   "source": [
    "#code that was provided for \"Main\"\n",
    "cytb_seqs = get_sequences_from_file(\"penguins_cytb.fasta\") \n",
    "penguins_df = pd.read_csv(\"penguins_mass.csv\") # Includes only data for body mass \n",
    "species_list = list(penguins_df.species)\n",
    "print(cytb_seqs)"
   ]
  },
  {
   "cell_type": "markdown",
   "id": "c4b141c2",
   "metadata": {},
   "source": [
    "### 6. Add two new columns to the penguin DataFrame: (1) molecular weight and (2) GC content.\n",
    "The following link was used to help perform the desired outcome in the code chunk below:  \n",
    "- [Adding Columns in Pandas](https://www.geeksforgeeks.org/adding-new-column-to-existing-dataframe-in-pandas/)"
   ]
  },
  {
   "cell_type": "code",
   "execution_count": 13,
   "id": "3b8000d3",
   "metadata": {},
   "outputs": [
    {
     "name": "stdout",
     "output_type": "stream",
     "text": [
      "                    species   mass molecular_weight GC_content\n",
      "0      Aptenodytes forsteri  28.00              NaN        NaN\n",
      "1   Aptenodytes patagonicus  13.40              NaN        NaN\n",
      "2       Eudyptes chrysocome   2.80              NaN        NaN\n",
      "3     Eudyptes chrysolophus   4.50              NaN        NaN\n",
      "4         Eudyptes sclateri   4.25              NaN        NaN\n",
      "5           Eudyptula minor   1.60              NaN        NaN\n",
      "6        Pygoscelis adeliae   4.60              NaN        NaN\n",
      "7     Pygoscelis antarctica   4.10              NaN        NaN\n",
      "8          Pygoscelis papua   6.10              NaN        NaN\n",
      "9       Spheniscus demersus   3.20              NaN        NaN\n",
      "10     Spheniscus humboldti   4.75              NaN        NaN\n",
      "11  Spheniscus magellanicus   3.40              NaN        NaN\n"
     ]
    }
   ],
   "source": [
    "molecular_weight = ['NaN', 'NaN', 'NaN', 'NaN', 'NaN', 'NaN', 'NaN', 'NaN', 'NaN', 'NaN', 'NaN', 'NaN'] #creating a blank list, denoted as \"NaN\"\n",
    "GC_content = ['NaN', 'NaN', 'NaN', 'NaN', 'NaN', 'NaN', 'NaN', 'NaN', 'NaN', 'NaN', 'NaN', 'NaN'] #creating a second blank list, denoted as \"NaN\"\n",
    "penguins_df_copy = penguins_df.copy() #creating a copy of our dataframe\n",
    "penguins_df_copy['molecular_weight'] = molecular_weight #adding the molecular weight column to dataframe using our defined list\n",
    "penguins_df_copy['GC_content'] = GC_content #adding the GC_content column to dataframe using our defined list\n",
    "\n",
    "print(penguins_df_copy) #checking to see that the code worked correctly"
   ]
  },
  {
   "cell_type": "markdown",
   "id": "e278a575",
   "metadata": {},
   "source": [
    "### 7. Write a for-loop that translates each sequence and also gets molecular weight and computes the GC content\n",
    "The following link was used to help perform the desired outcome in the code chunk below:  \n",
    "- [For loops with dictionaries](https://realpython.com/iterate-through-dictionary-python/)\n",
    "- [More for loop info](https://stackoverflow.com/questions/64199164/why-python-only-printing-the-last-key-from-dictionary)\n",
    "- [Update Dataframe values](https://stackoverflow.com/questions/24036911/how-to-update-values-in-a-specific-row-in-a-python-pandas-dataframe)"
   ]
  },
  {
   "cell_type": "code",
   "execution_count": 14,
   "id": "474dfc4b",
   "metadata": {},
   "outputs": [],
   "source": [
    "aa_seq = () #create empty tuple for amino acid sequence\n",
    "gc_content = () #create empty tuple for gc content\n",
    "molecular_weight = () #create empty tuple for molecular weight\n",
    "for species, sequence in cytb_seqs.items(): #write for loop\n",
    "    aa_seq = alternate_translate_function(sequence) #use function 3 to translate nucleotide info to amino acid info\n",
    "    molecular_weight = compute_molecular_weight(alternate_translate_function(sequence)) #use function 4\n",
    "    gc_content = GC(sequence) #use function 5\n",
    "    penguins_df_copy.loc[penguins_df_copy[\"species\"] == species, \"molecular_weight\"] = molecular_weight #convert \"NaN\" values to appropriate molecular weight value\n",
    "    penguins_df_copy.loc[penguins_df_copy[\"species\"] == species, \"GC_content\"] = gc_content #convert \"NaN\" values to appropriate GC_content value"
   ]
  },
  {
   "cell_type": "code",
   "execution_count": 15,
   "id": "51dbbc29",
   "metadata": {},
   "outputs": [
    {
     "name": "stdout",
     "output_type": "stream",
     "text": [
      "                    species   mass molecular_weight GC_content\n",
      "0      Aptenodytes forsteri  28.00       42459.6021   0.483815\n",
      "1   Aptenodytes patagonicus  13.40       42563.7067   0.496938\n",
      "2       Eudyptes chrysocome   2.80       42475.5753   0.511811\n",
      "3     Eudyptes chrysolophus   4.50       42445.5493   0.509186\n",
      "4         Eudyptes sclateri   4.25       42475.5753   0.508311\n",
      "5           Eudyptula minor   1.60       42491.6408   0.492563\n",
      "6        Pygoscelis adeliae   4.60        42458.614   0.490814\n",
      "7     Pygoscelis antarctica   4.10       42404.5423    0.47769\n",
      "8          Pygoscelis papua   6.10       42595.8759   0.471566\n",
      "9       Spheniscus demersus   3.20        42431.549    0.48294\n",
      "10     Spheniscus humboldti   4.75        42399.552   0.492563\n",
      "11  Spheniscus magellanicus   3.40       42459.6021   0.482065\n"
     ]
    }
   ],
   "source": [
    "#Testing to see if the for loop worked for our dataframe\n",
    "print(penguins_df_copy)"
   ]
  },
  {
   "cell_type": "markdown",
   "id": "e006f5d8",
   "metadata": {},
   "source": [
    "### 8. Plot a bar-chart of the mass with the x-axes labeled with species names.\n",
    "The following links were used to help perform the desired outcome in the code chunk below:   \n",
    "- [Seaborn barplots](https://seaborn.pydata.org/generated/seaborn.barplot.html)  \n",
    "- [Seabron vertical x labels](https://www.delftstack.com/howto/seaborn/rotate-tick-labels-seaborn/)\n",
    "- [Change order of plot](https://datavizpyr.com/sort-bars-in-barplot-using-seaborn-in-python/)"
   ]
  },
  {
   "cell_type": "code",
   "execution_count": 16,
   "id": "b9e52c13",
   "metadata": {},
   "outputs": [
    {
     "data": {
      "text/plain": [
       "[Text(0, 0, 'Eudyptula minor'),\n",
       " Text(1, 0, 'Eudyptes chrysocome'),\n",
       " Text(2, 0, 'Spheniscus demersus'),\n",
       " Text(3, 0, 'Spheniscus magellanicus'),\n",
       " Text(4, 0, 'Pygoscelis antarctica'),\n",
       " Text(5, 0, 'Eudyptes sclateri'),\n",
       " Text(6, 0, 'Eudyptes chrysolophus'),\n",
       " Text(7, 0, 'Pygoscelis adeliae'),\n",
       " Text(8, 0, 'Spheniscus humboldti'),\n",
       " Text(9, 0, 'Pygoscelis papua'),\n",
       " Text(10, 0, 'Aptenodytes patagonicus'),\n",
       " Text(11, 0, 'Aptenodytes forsteri')]"
      ]
     },
     "execution_count": 16,
     "metadata": {},
     "output_type": "execute_result"
    },
    {
     "data": {
      "image/png": "[encoded data removed]",
      "text/plain": [
       "<Figure size 432x288 with 1 Axes>"
      ]
     },
     "metadata": {
      "needs_background": "light"
     },
     "output_type": "display_data"
    }
   ],
   "source": [
    "ax = sns.barplot(x='species', y='mass', data= penguins_df_copy, \n",
    "                 order=penguins_df_copy.sort_values('mass').species) #changes order from least to greatest\n",
    "ax.set_xticklabels(ax.get_xticklabels(),rotation = 90) #changes x ticks for barplot to be vertical"
   ]
  },
  {
   "cell_type": "markdown",
   "id": "aaf66f4b",
   "metadata": {},
   "source": [
    "### Question 1: What is the smallest penguin species? \n",
    "***Eudyptula minor***\n",
    "### Question 2: What is the geographical range of this species?\n",
    "***Eudyptula minor* can be found on the coast of southern Australia as well as coasts of New Zealand. In addition, reports of residency on South Solitary Island off the coast of New South Wales.** [*Eudyptula minor*](https://animaldiversity.org/accounts/Eudyptula_minor/)"
   ]
  },
  {
   "cell_type": "markdown",
   "id": "f830e92e",
   "metadata": {},
   "source": [
    "### 9. Plot a visualization of the molecular weight (y-axis) as a function of GC-content (x-axis).\n",
    "The following link was used to help perform the desired outcome in the code chunk below:\n",
    "- [More seaborn information from class notes](https://eeob-biodata.github.io/BCB546X-python/05-seaborn-viz/)"
   ]
  },
  {
   "cell_type": "code",
   "execution_count": 17,
   "id": "4ec2d72d",
   "metadata": {},
   "outputs": [
    {
     "data": {
      "text/plain": [
       "<seaborn.axisgrid.FacetGrid at 0x1e4ac7b75e0>"
      ]
     },
     "execution_count": 17,
     "metadata": {},
     "output_type": "execute_result"
    },
    {
     "data": {
      "image/png": "[encoded data removed]",
      "text/plain": [
       "<Figure size 523.25x360 with 1 Axes>"
      ]
     },
     "metadata": {
      "needs_background": "light"
     },
     "output_type": "display_data"
    }
   ],
   "source": [
    "sns.lmplot(x=\"molecular_weight\", y=\"GC_content\", data=penguins_df_copy, fit_reg=False, hue ='species')\n",
    "#added hue to make connection of the function of molecular weight to GC_content to a species"
   ]
  },
  {
   "cell_type": "markdown",
   "id": "15950327",
   "metadata": {},
   "source": [
    "### 10. Save the new DataFrame to a file called \"penguins_mass_cytb.csv\"\n",
    "The following link was used to help perform the desired outcome in the code chunk below:  \n",
    "- [Saving to csv in pandas](https://pandas.pydata.org/docs/reference/api/pandas.DataFrame.to_csv.html)"
   ]
  },
  {
   "cell_type": "code",
   "execution_count": 18,
   "id": "0e111faf",
   "metadata": {},
   "outputs": [],
   "source": [
    "penguins_df_copy.to_csv('penguins_mass_cytb.csv', index=False)"
   ]
  },
  {
   "cell_type": "markdown",
   "id": "01c3fc6d",
   "metadata": {},
   "source": [
    "### 11. BONUS"
   ]
  },
  {
   "cell_type": "markdown",
   "id": "5651ee31",
   "metadata": {},
   "source": [
    "### Function:  *new_translation(codons)*\n",
    "\n",
    "**Description:** Takes a fasta file and reduces the amount of information to just genus/species name and amino acid sequence information\n",
    "\n",
    "**Arguments:**  \n",
    "> 1. codons_fn: fasta file to obtain sequences from\n",
    "\n",
    "**Create before \"for loop\":** \n",
    "> 1. Empty dictonary for information to be stored in\n",
    "\n",
    "**For loop - For each record within the fasta file:**\n",
    "> 1. Splits each description,\n",
    "> 2. Takes 2nd and 3rd positions of record and adds a space inbetween, create new object \"species name\"\n",
    "> 3. Obtain the sequence information from fasta file and translate into codon information\n",
    "    \n",
    "**Return:** A dictonary of records with genus name, species name and amino acid sequence information\n",
    "   \n",
    "**Example of usage:**  \n",
    ">penguins_translation = new_translation(\"penguins_cytb.fasta\")  \n",
    ">print(penguins_translation)"
   ]
  },
  {
   "cell_type": "code",
   "execution_count": 19,
   "id": "4860ae9c",
   "metadata": {},
   "outputs": [],
   "source": [
    "#Creating a dictionary, similar to function 1, but has amino acids instead of nucleotides\n",
    "def new_translation(codons_fn): \n",
    "    translation_data_dict = {}\n",
    "    mito_table = CodonTable.unambiguous_dna_by_name[\"Vertebrate Mitochondrial\"]\n",
    "    for record in SeqIO.parse(codons_fn, \"fasta\"):    \n",
    "        description = record.description.split() \n",
    "        species_name = description[1] + \" \" + description[2]\n",
    "        translation_data_dict[species_name] = [record.seq.translate(table=mito_table, cds=True)]\n",
    "    return(translation_data_dict) "
   ]
  },
  {
   "cell_type": "code",
   "execution_count": 20,
   "id": "5d95dbf8",
   "metadata": {},
   "outputs": [
    {
     "name": "stdout",
     "output_type": "stream",
     "text": [
      "{'Aptenodytes forsteri': [Seq('MAPNLRKSHPLLKMINNSLIDLPTPSNISAWWNFGSLLGICLTTQILTGLLLAM...LNH')], 'Aptenodytes patagonicus': [Seq('MAPNLRKSHPLLKMINNSLIDLPTPSNISAWWNFGSLLGICLTTQILTGLLLAM...LNH')], 'Eudyptes chrysocome': [Seq('MAPNLRKSHPLLKTINNSLIDLPTPSNISAWWNFGSLLGICLATQILTGLLLAA...LNH')], 'Eudyptes chrysolophus': [Seq('MAPNLRKSHPLLKTINNSLIDLPTPSNISAWWNFGSLLGICLATQILTGLLLAA...LNH')], 'Eudyptes sclateri': [Seq('MAPNLRKSHPLLKTINNSLIDLPTPSNISAWWNFGSLLGICLATQILTGLLLAA...LNH')], 'Eudyptula minor': [Seq('MAPNLRKSHPLLKMINNSLIDLPTPSNISTWWNFGSLLGICLITQILTGLLLAA...LSH')], 'Pygoscelis adeliae': [Seq('MAPNLRKSHPLLKMINNSLIDLPTPSNISAWWNFGSLLGICLTTQILTGLLLAM...LNH')], 'Pygoscelis antarctica': [Seq('MAPNLRKSHPLLKMINNSLIDLPTPSNISAWWNFGSLLGICLTTQILTGLLLAM...LNF')], 'Pygoscelis papua': [Seq('MAPNLRKSHPLLKMINKSLIDLPTPPNISAWWNFGSLLGICLITQILTGLLLAM...LNF')], 'Spheniscus demersus': [Seq('MAPNLRKSHPLLKTINNSLIDLPTPSNISAWWNFGSLLGICLATQILTGLLLAA...LNH')], 'Spheniscus humboldti': [Seq('MAPNLRKSHPLLKTINNSLIDLPTPSNISAWWNFGSLLSICLATQILTGLLLAA...LNH')], 'Spheniscus magellanicus': [Seq('MAPNLRKSHPLLKTINNSLIDLPTPSNISAWWNFGSLLGICLATQILTGLLLAA...LNH')]}\n"
     ]
    }
   ],
   "source": [
    "#Checking to see if function works with example\n",
    "penguins_translation = new_translation(\"penguins_cytb.fasta\")\n",
    "print(penguins_translation)"
   ]
  },
  {
   "cell_type": "code",
   "execution_count": 21,
   "id": "263044fc",
   "metadata": {},
   "outputs": [
    {
     "data": {
      "text/plain": [
       "[Text(0, 0, 'Eudyptes chrysocome'),\n",
       " Text(1, 0, 'Eudyptes chrysolophus'),\n",
       " Text(2, 0, 'Eudyptes sclateri'),\n",
       " Text(3, 0, 'Aptenodytes patagonicus'),\n",
       " Text(4, 0, 'Eudyptula minor'),\n",
       " Text(5, 0, 'Spheniscus humboldti'),\n",
       " Text(6, 0, 'Pygoscelis adeliae'),\n",
       " Text(7, 0, 'Aptenodytes forsteri'),\n",
       " Text(8, 0, 'Spheniscus demersus'),\n",
       " Text(9, 0, 'Spheniscus magellanicus'),\n",
       " Text(10, 0, 'Pygoscelis antarctica'),\n",
       " Text(11, 0, 'Pygoscelis papua')]"
      ]
     },
     "execution_count": 21,
     "metadata": {},
     "output_type": "execute_result"
    },
    {
     "data": {
      "image/png": "[encoded data removed]",
      "text/plain": [
       "<Figure size 432x288 with 1 Axes>"
      ]
     },
     "metadata": {
      "needs_background": "light"
     },
     "output_type": "display_data"
    }
   ],
   "source": [
    "#Plotting species by GC_content in decending order\n",
    "ax2 = sns.barplot(x='species', y='GC_content', data= penguins_df_copy,\n",
    "                 order=penguins_df_copy.sort_values('GC_content', ascending = False).species) #changes order greatest to least\n",
    "ax2.set_xticklabels(ax2.get_xticklabels(),rotation = 90) #changes x ticks for barplot to be vertical"
   ]
  }
 ],
 "metadata": {
  "kernelspec": {
   "display_name": "Python 3",
   "language": "python",
   "name": "python3"
  },
  "language_info": {
   "codemirror_mode": {
    "name": "ipython",
    "version": 3
   },
   "file_extension": ".py",
   "mimetype": "text/x-python",
   "name": "python",
   "nbconvert_exporter": "python",
   "pygments_lexer": "ipython3",
   "version": "3.8.8"
  }
 },
 "nbformat": 4,
 "nbformat_minor": 5
}
