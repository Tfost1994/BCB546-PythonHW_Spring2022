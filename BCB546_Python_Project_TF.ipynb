{
 "cells": [
  {
   "cell_type": "markdown",
   "id": "abb6faef",
   "metadata": {},
   "source": [
    "# Python Translate Script - Jupyter Notebook"
   ]
  },
  {
   "cell_type": "markdown",
   "id": "b864226d",
   "metadata": {},
   "source": [
    "# Description\n",
    "The objective of this jupyter notebook is to complete the tasks of Dr. X's python script. Tasks such as documenting functions, completing functions from pseudo-code, creating new data based upon provided data (and adding that information to an existing datafile) and finally, visualizing the data. "
   ]
  },
  {
   "cell_type": "markdown",
   "id": "44752d5d",
   "metadata": {},
   "source": [
    "# Dependencies\n",
    "Biopython installation  \n",
    "Pandas installation \n",
    "  \n",
    "from Bio import SeqIO;  \n",
    "from Bio.Data import CodonTable;  \n",
    "import pandas as pd;  \n",
    "from Bio.Seq import Seq;  \n",
    "from Bio.SeqUtils.ProtParam import ProteinAnalysis;  \n",
    "from Bio.SeqUtils import GC"
   ]
  },
  {
   "cell_type": "markdown",
   "id": "f37b5f36",
   "metadata": {},
   "source": [
    "# Authors\n",
    "Dr. X and Tyler Foster"
   ]
  },
  {
   "cell_type": "markdown",
   "id": "93ef03aa",
   "metadata": {},
   "source": [
    "# Date\n",
    "April 25, 2022"
   ]
  },
  {
   "cell_type": "code",
   "execution_count": 83,
   "id": "d33f117e",
   "metadata": {},
   "outputs": [],
   "source": [
    "##Install BioPython and Pandas if not already installed##\n",
    "\n",
    "#Import the dependencies listed above:\n",
    "from Bio import SeqIO\n",
    "from Bio.Data import CodonTable\n",
    "import pandas as pd\n",
    "from Bio.Seq import Seq\n",
    "from Bio.SeqUtils.ProtParam import ProteinAnalysis\n",
    "from Bio.SeqUtils import GC"
   ]
  },
  {
   "cell_type": "markdown",
   "id": "3a57aec4",
   "metadata": {},
   "source": [
    "# Functions "
   ]
  },
  {
   "cell_type": "markdown",
   "id": "1a50e69b",
   "metadata": {},
   "source": [
    "### 1. Document Dr. X's function with comments and with markdown text.\n"
   ]
  },
  {
   "cell_type": "markdown",
   "id": "acee3350",
   "metadata": {},
   "source": [
    "### Function:  *get_sequences_from_file(fasta_fn)*\n",
    "\n",
    "**Description:** Takes a fasta file and reduces the amount of information to just genus/species name and sequence information\n",
    "\n",
    "**Arguments:**  \n",
    "> 1. fasta_fn: fasta file to obtain sequences from\n",
    "\n",
    "**Create before \"for loop\":** \n",
    "> 1. Empty dictonary for information to be stored in\n",
    "\n",
    "**For loop - For each record within the fasta file:**\n",
    "> 1. Splits each description,\n",
    "> 2. Takes 2nd and 3rd positions of record and adds a space inbetween, create new object \"species name\"\n",
    "> 3. Obtain the sequence information \n",
    "    \n",
    "**Return:** A dictonary of records with genus name, species name and sequence information\n",
    "   \n",
    "**Example of usage:**  \n",
    ">penguins_sequence_data = get_sequences_from_file(\"penguins_cytb.fasta\")  \n",
    ">print(penguins_sequence_data)"
   ]
  },
  {
   "cell_type": "code",
   "execution_count": 2,
   "id": "cbbd3a8d",
   "metadata": {},
   "outputs": [],
   "source": [
    "def get_sequences_from_file(fasta_fn): #def is the keyword for defining our function, \"get_sequences_from_file(fasta_fn)\"\n",
    "    sequence_data_dict = {} #empty dictionary\n",
    "    for record in SeqIO.parse(fasta_fn, \"fasta\"): #creating a for loop    \n",
    "        description = record.description.split() \n",
    "        species_name = description[1] + \" \" + description[2]\n",
    "        sequence_data_dict[species_name] = record.seq\n",
    "    return(sequence_data_dict) #ends the execution of a function and \"returns\" the value(s)"
   ]
  },
  {
   "cell_type": "code",
   "execution_count": 3,
   "id": "e1827d84",
   "metadata": {},
   "outputs": [
    {
     "name": "stdout",
     "output_type": "stream",
     "text": [
      "{'Aptenodytes forsteri': Seq('ATGGCCCCAAATCTCCGAAAATCCCATCCCCTCCTAAAAATAATTAATAACTCC...TAA'), 'Aptenodytes patagonicus': Seq('ATGGCCCCAAACCTCCGAAAATCCCATCCTCTCCTAAAAATAATTAATAACTCC...TAA'), 'Eudyptes chrysocome': Seq('ATGGCCCCCAACCTCCGAAAATCCCACCCCCTCCTAAAAACAATCAATAACTCC...TAA'), 'Eudyptes chrysolophus': Seq('ATGGCCCCCAACCTCCGAAAATCCCACCCCCTCCTAAAAACAATCAATAACTCC...TAA'), 'Eudyptes sclateri': Seq('ATGGCCCCCAACCTCCGAAAATCCCACCCCCTCCTAAAAACAATCAATAACTCC...TAA'), 'Eudyptula minor': Seq('ATGGCCCCCAACCTCCGAAAATCTCACCCCCTCCTAAAAATAATCAACAACTCT...TAA'), 'Pygoscelis adeliae': Seq('ATGGCCCCCAACCTCCGAAAATCCCACCCTCTCCTAAAAATAATTAACAACTCC...TAA'), 'Pygoscelis antarctica': Seq('ATGGCCCCCAACCTCCGAAAATCCCACCCTCTCCTAAAAATAATCAACAACTCC...TAG'), 'Pygoscelis papua': Seq('ATGGCCCCCAACCTTCGAAAATCCCACCCTCTCCTAAAAATAATCAACAAATCC...TAG'), 'Spheniscus demersus': Seq('ATGGCCCCCAACCTCCGAAAATCCCACCCTCTCCTAAAAACAATCAACAACTCC...TAA'), 'Spheniscus humboldti': Seq('ATGGCCCCCAACCTCCGAAAATCCCACCCTCTCCTAAAAACAATCAACAACTCC...TAA'), 'Spheniscus magellanicus': Seq('ATGGCCCCCAACCTCCGAAAATCCCACCCTCTCCTAAAAACAATCAACAACTCC...TAA')}\n"
     ]
    }
   ],
   "source": [
    "#Let's also load the example into our environment for later examples...\n",
    "penguins_sequence_data = get_sequences_from_file(\"penguins_cytb.fasta\")\n",
    "print(penguins_sequence_data)"
   ]
  },
  {
   "cell_type": "markdown",
   "id": "db963ff3",
   "metadata": {},
   "source": [
    "### 2. Write a function that translates a string of nucleotides to amino acids based on Dr. X's pseudo-code suggestion.\n"
   ]
  },
  {
   "cell_type": "markdown",
   "id": "cee1b73b",
   "metadata": {},
   "source": [
    "### Function: *translate_function(string_nucleotides)*\n",
    "**Description:** Takes a nucleotide sequence and translates that information to a string of amino acids\n",
    "\n",
    "**Arguments:**\n",
    "> 1. string_nucleotides: string of nucleotides\n",
    "\n",
    "**Create before \"for loop\":** \n",
    "   > 1. mito_table object to connect a 3-nucleotide sequence to an amino acid\n",
    "   > 2. codons object that iterates over the entire string of nucleotides and defines a codon at every 3rd position\n",
    "   > 3. Empty list for information to be stored in\n",
    "   > 4. stop codons object that defines which of the above amino acids are stop codons\n",
    "\n",
    "**For loop**\n",
    "   > 1. For a specific codon in our codons list -\n",
    "   > 2. If that codon *is not* a stop codon:\n",
    "   > 3. Append the list of sequences using the mito_table for amino acid information\n",
    "\n",
    "**Create after \"for loop\":**\n",
    "   > 1. Creating a string by joining ' ' with the list of amino acid sequence\n",
    "    \n",
    "**Return:** A string of amino acid sequence\n",
    "   \n",
    "**Example of usage:**   \n",
    ">print(translate_function(penguins_sequence_data[\"Aptenodytes forsteri\"]))\n",
    "\n",
    "The following links were used to help writing this function:  \n",
    "- [Convert List to String](https://stackoverflow.com/questions/5618878/how-to-convert-list-to-string)\n",
    "- [Understanding for loops](https://www.learnpython.org/en/Loops)\n",
    "- [Converting DNA to Amino Acids](https://www.learnpython.org/en/Loops)"
   ]
  },
  {
   "cell_type": "code",
   "execution_count": 4,
   "id": "74dfa95c",
   "metadata": {},
   "outputs": [],
   "source": [
    "def translate_function(string_nucleotides): #defining our function\n",
    "    mito_table = CodonTable.unambiguous_dna_by_name[\"Vertebrate Mitochondrial\"]\n",
    "    codons = [(string_nucleotides[i:i + 3]) for i in range(0, len(string_nucleotides), 3)]\n",
    "    amino_acid_seq_list = [] #empty list to put amino acid sequence into\n",
    "    stop_codons = [\"TAA\", \"TAG\", \"AGA\", \"AGG\"] #defining our stop codons\n",
    "    for codon in codons: \n",
    "        if codon not in stop_codons:\n",
    "            amino_acid_seq_list.append(mito_table.forward_table[codon])\n",
    "    amino_acid_seq_string = ''.join(amino_acid_seq_list)\n",
    "    return(amino_acid_seq_string) #ends the execution of a function and \"returns\" the value(s)"
   ]
  },
  {
   "cell_type": "code",
   "execution_count": 5,
   "id": "4f61904c",
   "metadata": {},
   "outputs": [
    {
     "name": "stdout",
     "output_type": "stream",
     "text": [
      "MAPNLRKSHPLLKMINNSLIDLPTPSNISAWWNFGSLLGICLTTQILTGLLLAMHYTADTTLAFSSVAHTCRNVQYGWLIRNLHANGASFFFICIYLHIGRGFYYGSYLYKETWNTGIILLLTLMATAFVGYVLPWGQMSFWGATVITNLFSAIPYIGQTLVEWTWGGFSVDNPTLTRFFALHFLLPFMIAGLTLIHLTFLHESGSNNPLGIVANSDKIPFHPYYSTKDILGFALMLLPLTTLALFSPNLLGDPENFTPANPLVTPPHIKPEWYFLFAYAILRSIPNKLGGVLALAASVLILFLIPLLHKSKQRTMAFRPLSQLLFWALVANLIILTWVGSQPVEHPFIIIGQLASLTYFTTLLILFPIAGALENKMLNH\n"
     ]
    }
   ],
   "source": [
    "#Testing our function example\n",
    "print(translate_function(penguins_sequence_data[\"Aptenodytes forsteri\"]))"
   ]
  },
  {
   "cell_type": "markdown",
   "id": "b7aa60b1",
   "metadata": {},
   "source": [
    "### 3. Write an alternative translation function."
   ]
  },
  {
   "cell_type": "markdown",
   "id": "8ba8bcba",
   "metadata": {},
   "source": [
    "### Function: *alternate_translate_function(string_nucleotides2)*\n",
    "**Description:** Takes a nucleotide sequence and translates that information to a string of amino acids\n",
    "\n",
    "**Arguments:**\n",
    "> 1. string_nucleotides2: string of nucleotides\n",
    "\n",
    "**Must Create:**\n",
    "> 1. alternate_mito table object, similar to the mito table object above\n",
    "> 2. alternate_amino_acid sequence using the alternate mito table object and stating cds = 'True'\n",
    "    - \"*If True, this checks the sequence starts with a valid alternative start codon (which will be translated as methionine, M), that the sequence length is a multiple of three, and that there is a single in frame stop codon at the end (this will be excluded from the protein sequence, regardless of the to_stop option). If these tests fail, an exception is raised.*\" [BioSeq module](https://biopython.org/docs/1.75/api/Bio.Seq.html)\n",
    "> 3. alternate_amino_acid_seq_string object that converts the alternate amino acid sequence to a string\n",
    "    \n",
    "**Return:** A string of amino acid sequence\n",
    "   \n",
    "**Example of usage:**   \n",
    ">print(alternate_translate_function(penguins_sequence_data[\"Aptenodytes forsteri\"]))\n",
    "\n",
    "The following link was used to help writing this function:  \n",
    "- [BioSeq module](https://biopython.org/docs/1.75/api/Bio.Seq.html)"
   ]
  },
  {
   "cell_type": "code",
   "execution_count": 6,
   "id": "b508056f",
   "metadata": {},
   "outputs": [],
   "source": [
    "def alternate_translate_function(string_nucleotides2): #defining our function\n",
    "    alternate_mito_table = CodonTable.unambiguous_dna_by_name[\"Vertebrate Mitochondrial\"]\n",
    "    alternate_amino_acid_seq = string_nucleotides2.translate(table = alternate_mito_table, cds = True)\n",
    "    alternate_amino_acid_seq_string = str(alternate_amino_acid_seq) #convert to string\n",
    "    return(alternate_amino_acid_seq_string)  #ends the execution of a function and \"returns\" the value(s)"
   ]
  },
  {
   "cell_type": "code",
   "execution_count": 7,
   "id": "aa6569aa",
   "metadata": {},
   "outputs": [
    {
     "name": "stdout",
     "output_type": "stream",
     "text": [
      "MAPNLRKSHPLLKMINNSLIDLPTPSNISAWWNFGSLLGICLTTQILTGLLLAMHYTADTTLAFSSVAHTCRNVQYGWLIRNLHANGASFFFICIYLHIGRGFYYGSYLYKETWNTGIILLLTLMATAFVGYVLPWGQMSFWGATVITNLFSAIPYIGQTLVEWTWGGFSVDNPTLTRFFALHFLLPFMIAGLTLIHLTFLHESGSNNPLGIVANSDKIPFHPYYSTKDILGFALMLLPLTTLALFSPNLLGDPENFTPANPLVTPPHIKPEWYFLFAYAILRSIPNKLGGVLALAASVLILFLIPLLHKSKQRTMAFRPLSQLLFWALVANLIILTWVGSQPVEHPFIIIGQLASLTYFTTLLILFPIAGALENKMLNH\n"
     ]
    }
   ],
   "source": [
    "#Testing our function example\n",
    "print(alternate_translate_function(penguins_sequence_data[\"Aptenodytes forsteri\"]))"
   ]
  },
  {
   "cell_type": "markdown",
   "id": "864a26cf",
   "metadata": {},
   "source": [
    "### 4. Write a function that calculates the molecular weight of each amino acid sequence."
   ]
  },
  {
   "cell_type": "markdown",
   "id": "71dc98b3",
   "metadata": {},
   "source": [
    "### Function: *compute_molecular_weight(amino_acid_sequence)*\n",
    "**Description:** Takes a nucleotide sequence and translates that information to a string of amino acids\n",
    "\n",
    "**Arguments:**\n",
    "> 1. amino_acid_sequence: which is string of amino acids (created from either function 2 or 3)\n",
    "\n",
    "**Must Create:**\n",
    "> 1. protein_analysis object uses ProteinAnalysis package on the sequence of amino acid\n",
    "> 2. mol_weight object that calculates the molecular weight of the protein_analysis object created\n",
    "    \n",
    "**Return:** The molecular weight of the amino acid sequence provided\n",
    "   \n",
    "**Example of usage:**   \n",
    ">translate_A_forsteri = alternate_translate_function(penguins_sequence_data[\"Aptenodytes forsteri\"])  \n",
    ">mol_weight_A_forsteri = compute_molecular_weight(translate_A_forsteri)  \n",
    ">print(mol_weight_A_forsteri)\n",
    "\n",
    "The following link was used to help writing this function:  \n",
    "- [ProtParam module](https://biopython.org/wiki/ProtParam)"
   ]
  },
  {
   "cell_type": "code",
   "execution_count": 8,
   "id": "b4342f4a",
   "metadata": {},
   "outputs": [],
   "source": [
    "def compute_molecular_weight(amino_acid_sequence):\n",
    "    protein_analysis = ProteinAnalysis(amino_acid_sequence)\n",
    "    mol_weight = protein_analysis.molecular_weight()\n",
    "    return(mol_weight)"
   ]
  },
  {
   "cell_type": "code",
   "execution_count": 26,
   "id": "1315765d",
   "metadata": {},
   "outputs": [
    {
     "data": {
      "text/plain": [
       "42459.602100000004"
      ]
     },
     "execution_count": 26,
     "metadata": {},
     "output_type": "execute_result"
    }
   ],
   "source": [
    "#Testing our function example\n",
    "translate_A_forsteri = alternate_translate_function(penguins_sequence_data[\"Aptenodytes forsteri\"])  \n",
    "compute_molecular_weight(translate_A_forsteri)"
   ]
  },
  {
   "cell_type": "markdown",
   "id": "db0bb8a7",
   "metadata": {},
   "source": [
    "### 5. Write a function that computes the GC-content of each DNA sequence."
   ]
  },
  {
   "cell_type": "markdown",
   "id": "eb2d8a88",
   "metadata": {},
   "source": [
    "### Function: *GC(sequence)*\n",
    "**Description:** Takes a nucleotide sequence and translates that information to a string of amino acids\n",
    "\n",
    "**Arguments:**\n",
    "> 1. sequence: sequence of nucleotides \n",
    "\n",
    "**Must Create:**\n",
    "> 1. gc object that counts the number of nucleotides of interest for a given sequence and sums the count\n",
    "    \n",
    "**Return:** Returning the GC content as a ratio by taking the gc object and dividing by the length of sequence fed into function\n",
    "   \n",
    "**Example of usage:**   \n",
    "> nucleotide_A_forsteri = penguins_sequence_data[\"Aptenodytes forsteri\"]  \n",
    "> nucleotide_A_forsteri = str(nucleotide_A_forsteri)  \n",
    "> GC(nucleotide_A_forsteri)\n",
    "\n",
    "The following link was used to help writing this function:  \n",
    "- [GC Content](https://github.com/biopython/biopython/blob/master/Bio/SeqUtils/__init__.py)"
   ]
  },
  {
   "cell_type": "code",
   "execution_count": 10,
   "id": "b5211e95",
   "metadata": {},
   "outputs": [],
   "source": [
    "def GC(sequence): #defining our function\n",
    "    gc = sum(sequence.count(x) for x in [\"G\", \"C\", \"g\", \"c\", \"S\", \"s\"])\n",
    "    return gc / len(sequence) #ends the execution of a function and \"returns\" the value(s)"
   ]
  },
  {
   "cell_type": "code",
   "execution_count": 11,
   "id": "daba7eaa",
   "metadata": {},
   "outputs": [
    {
     "data": {
      "text/plain": [
       "0.48381452318460194"
      ]
     },
     "execution_count": 11,
     "metadata": {},
     "output_type": "execute_result"
    }
   ],
   "source": [
    "#Testing our function example\n",
    "nucleotide_A_forsteri = penguins_sequence_data[\"Aptenodytes forsteri\"]\n",
    "nucleotide_A_forsteri = str(nucleotide_A_forsteri)\n",
    "GC(nucleotide_A_forsteri)"
   ]
  },
  {
   "cell_type": "markdown",
   "id": "b7f06cdc",
   "metadata": {},
   "source": [
    "# Main"
   ]
  },
  {
   "cell_type": "code",
   "execution_count": 12,
   "id": "fa62dcb1",
   "metadata": {},
   "outputs": [
    {
     "name": "stdout",
     "output_type": "stream",
     "text": [
      "{'Aptenodytes forsteri': Seq('ATGGCCCCAAATCTCCGAAAATCCCATCCCCTCCTAAAAATAATTAATAACTCC...TAA'), 'Aptenodytes patagonicus': Seq('ATGGCCCCAAACCTCCGAAAATCCCATCCTCTCCTAAAAATAATTAATAACTCC...TAA'), 'Eudyptes chrysocome': Seq('ATGGCCCCCAACCTCCGAAAATCCCACCCCCTCCTAAAAACAATCAATAACTCC...TAA'), 'Eudyptes chrysolophus': Seq('ATGGCCCCCAACCTCCGAAAATCCCACCCCCTCCTAAAAACAATCAATAACTCC...TAA'), 'Eudyptes sclateri': Seq('ATGGCCCCCAACCTCCGAAAATCCCACCCCCTCCTAAAAACAATCAATAACTCC...TAA'), 'Eudyptula minor': Seq('ATGGCCCCCAACCTCCGAAAATCTCACCCCCTCCTAAAAATAATCAACAACTCT...TAA'), 'Pygoscelis adeliae': Seq('ATGGCCCCCAACCTCCGAAAATCCCACCCTCTCCTAAAAATAATTAACAACTCC...TAA'), 'Pygoscelis antarctica': Seq('ATGGCCCCCAACCTCCGAAAATCCCACCCTCTCCTAAAAATAATCAACAACTCC...TAG'), 'Pygoscelis papua': Seq('ATGGCCCCCAACCTTCGAAAATCCCACCCTCTCCTAAAAATAATCAACAAATCC...TAG'), 'Spheniscus demersus': Seq('ATGGCCCCCAACCTCCGAAAATCCCACCCTCTCCTAAAAACAATCAACAACTCC...TAA'), 'Spheniscus humboldti': Seq('ATGGCCCCCAACCTCCGAAAATCCCACCCTCTCCTAAAAACAATCAACAACTCC...TAA'), 'Spheniscus magellanicus': Seq('ATGGCCCCCAACCTCCGAAAATCCCACCCTCTCCTAAAAACAATCAACAACTCC...TAA')}\n"
     ]
    }
   ],
   "source": [
    "#code that was provided for \"Main\"\n",
    "cytb_seqs = get_sequences_from_file(\"penguins_cytb.fasta\") \n",
    "penguins_df = pd.read_csv(\"penguins_mass.csv\") # Includes only data for body mass \n",
    "species_list = list(penguins_df.species)\n",
    "print(cytb_seqs)"
   ]
  },
  {
   "cell_type": "markdown",
   "id": "c4b141c2",
   "metadata": {},
   "source": [
    "### 6. Add two new columns to the penguin DataFrame: (1) molecular weight and (2) GC content.\n",
    "The following link was used to help perform the desired outcome in the code chunk below:  \n",
    "- [Adding Columns in Pandas](https://www.geeksforgeeks.org/adding-new-column-to-existing-dataframe-in-pandas/)"
   ]
  },
  {
   "cell_type": "code",
   "execution_count": 13,
   "id": "3b8000d3",
   "metadata": {},
   "outputs": [
    {
     "name": "stdout",
     "output_type": "stream",
     "text": [
      "                    species   mass molecular_weight GC_content\n",
      "0      Aptenodytes forsteri  28.00              NaN        NaN\n",
      "1   Aptenodytes patagonicus  13.40              NaN        NaN\n",
      "2       Eudyptes chrysocome   2.80              NaN        NaN\n",
      "3     Eudyptes chrysolophus   4.50              NaN        NaN\n",
      "4         Eudyptes sclateri   4.25              NaN        NaN\n",
      "5           Eudyptula minor   1.60              NaN        NaN\n",
      "6        Pygoscelis adeliae   4.60              NaN        NaN\n",
      "7     Pygoscelis antarctica   4.10              NaN        NaN\n",
      "8          Pygoscelis papua   6.10              NaN        NaN\n",
      "9       Spheniscus demersus   3.20              NaN        NaN\n",
      "10     Spheniscus humboldti   4.75              NaN        NaN\n",
      "11  Spheniscus magellanicus   3.40              NaN        NaN\n"
     ]
    }
   ],
   "source": [
    "molecular_weight = ['NaN', 'NaN', 'NaN', 'NaN', 'NaN', 'NaN', 'NaN', 'NaN', 'NaN', 'NaN', 'NaN', 'NaN'] #creating a blank list, denoted as \"NaN\"\n",
    "GC_content = ['NaN', 'NaN', 'NaN', 'NaN', 'NaN', 'NaN', 'NaN', 'NaN', 'NaN', 'NaN', 'NaN', 'NaN'] #creating a second blank list, denoted as \"NaN\"\n",
    "penguins_df['molecular_weight'] = molecular_weight #adding the molecular weight column to dataframe using our defined list\n",
    "penguins_df['GC_content'] = GC_content #adding the GC_content column to dataframe using our defined list\n",
    "print(penguins_df) #checking to see that the code worked correctly"
   ]
  },
  {
   "cell_type": "markdown",
   "id": "e278a575",
   "metadata": {},
   "source": [
    "### 7. Write a for-loop that translates each sequence and also gets molecular weight and computes the GC content\n",
    "The following link was used to help perform the desired outcome in the code chunk below:  \n",
    "- [Dictionaries and for loops](https://realpython.com/iterate-through-dictionary-python/)\n",
    "- [Help with Dictionaries and for loops](https://stackoverflow.com/questions/64199164/why-python-only-printing-the-last-key-from-dictionary)"
   ]
  },
  {
   "cell_type": "code",
   "execution_count": 52,
   "id": "dbbab026",
   "metadata": {},
   "outputs": [
    {
     "name": "stdout",
     "output_type": "stream",
     "text": [
      "('Aptenodytes forsteri', ['MAPNLRKSHPLLKMINNSLIDLPTPSNISAWWNFGSLLGICLTTQILTGLLLAMHYTADTTLAFSSVAHTCRNVQYGWLIRNLHANGASFFFICIYLHIGRGFYYGSYLYKETWNTGIILLLTLMATAFVGYVLPWGQMSFWGATVITNLFSAIPYIGQTLVEWTWGGFSVDNPTLTRFFALHFLLPFMIAGLTLIHLTFLHESGSNNPLGIVANSDKIPFHPYYSTKDILGFALMLLPLTTLALFSPNLLGDPENFTPANPLVTPPHIKPEWYFLFAYAILRSIPNKLGGVLALAASVLILFLIPLLHKSKQRTMAFRPLSQLLFWALVANLIILTWVGSQPVEHPFIIIGQLASLTYFTTLLILFPIAGALENKMLNH', 42459.602100000004, 0.48381452318460194], [42459.60210000002], [0.4820647419072616])\n",
      "('Aptenodytes patagonicus', ['MAPNLRKSHPLLKMINNSLIDLPTPSNISAWWNFGSLLGICLTTQILTGLLLAMHYTADTTLAFSSVAHTCRNVQYGWLIRNLHANGASFFFICIYLHIGRGFYYGSYLYKETWNTGIILLLTLMATAFVGYVLPWGQMSFWGATVITNLFSAIPYIGQTLVEWAWGGFSVDNPTLTRFFALHFLLPFMIAGLTLIHLTFLHESGSNNPLGIVANSDKIPFHPYYSTKDTLGFALMLLPLTTLALFSPNLLGDPENFTPANPLVTPPHIKPEWYFLFAYAILRSIPNKLGGVLALAASVLILFLIPLLHKSKQRTMTFRPLSQLLFWTLVANLTILTWIGSQPVEHPFIIIGQLASLTYFTILLILFPLIGTLENKMLNH', 42563.70669999999, 0.4969378827646544], [42459.60210000002], [0.4820647419072616])\n",
      "('Eudyptes chrysocome', ['MAPNLRKSHPLLKTINNSLIDLPTPSNISAWWNFGSLLGICLATQILTGLLLAAHYTADTTLAFSSVAHTCRNVQYGWLIRNLHANGASFFFICIYLHIGRGLYYGSYLYKETWNTGIILLLTLMATAFVGYVLPWGQMSFWGATVITNLFSAIPYIGQTLVEWAWGGFSVDNPTLTRFFTLHFLLPFMIAGLTLIHLTFLHESGSNNPLGIVANSDKIPFHPYYSTKDILGFILLLLPLTTLALFSPNLLGDPENFTPANPLVTPPHIKPEWYFLFAYAILRSIPNKLGGVLALAASVLILFLIPLLHKSKQRTMTFRPLSQLLFWTLVANLTILTWIGSQPVEHPFIIIGQLASLTYFTILLILFPLIGTLENKMLNH', 42475.5753, 0.5118110236220472], [42459.60210000002], [0.4820647419072616])\n",
      "('Eudyptes chrysolophus', ['MAPNLRKSHPLLKTINNSLIDLPTPSNISAWWNFGSLLGICLATQILTGLLLAAHYTADTTLAFSSVAHTCRNVQYGWLIRNLHANGASFFFICIYLHIGRGLYYGSYLYKETWNTGIILLLTLMATAFVGYVLPWGQMSFWGATVITNLFSAIPYIGQTLVEWAWGGFSVDNPTLTRFFTLHFLLPFMIAGLTLIHLTFLHESGSNNPLGIVANSDKIPFHPYYSTKDILGFILLLLPLTALALFSPNLLGDPENFTPANPLVTPPHIKPEWYFLFAYAILRSIPNKLGGVLALAASVLILFLIPLLHKSKQRTMTFRPLSQLLFWTLVANLTILTWIGSQPVEHPFIIIGQLASLTYFTILLILFPLIGTLENKMLNH', 42445.54929999999, 0.5091863517060368], [42459.60210000002], [0.4820647419072616])\n",
      "('Eudyptes sclateri', ['MAPNLRKSHPLLKTINNSLIDLPTPSNISAWWNFGSLLGICLATQILTGLLLAAHYTADTTLAFSSVAHTCRNVQYGWLIRNLHANGASFFFICIYLHIGRGLYYGSYLYKETWNTGIILLLTLMATAFVGYVLPWGQMSFWGATVITNLFSAIPYIGQTLVEWAWGGFSVDNPTLTRFFTLHFLLPFMIAGLTLIHLTFLHESGSNNPLGIVANSDKIPFHPYYSTKDILGFILLLLPLTTLALFSPNLLGDPENFTPANPLVTPPHIKPEWYFLFAYAILRSIPNKLGGVLALAASVLILFLIPLLHKSKQRTMTFRPLSQLLFWTLVANLTILTWIGSQPVEHPFIIIGQLASLTYFTILLILFPLIGTLENKMLNH', 42475.5753, 0.5083114610673666], [42459.60210000002], [0.4820647419072616])\n",
      "('Eudyptula minor', ['MAPNLRKSHPLLKMINNSLIDLPTPSNISTWWNFGSLLGICLITQILTGLLLAAHYTADTTLAFSSIAHTCRNVQYGWLIRNLHANGASFFFICIYLHIGRGLYYGSYLYKETWNTGIILLITLMATAFVGYVLPWGQMSFWGATVITNLFSAIPYIGQTLVEWAWGGFSVDNPTLTRFFALHFLLPFMITGLTLIHLTFLHESGSNNPLGIVANSDKIPFHPYYSTKDILGFILLLLPLTTLALFSPNLLGDPENFTPANPLVTPPHIKPEWYFLFAYAILRSIPNKLGGVLALAASVLILFLIPLLHKSKQRSMAFRPLSQLLFWTLVANLTILTWVGNQPVEHPFIIIGQLASLTYFTILLILFPLAGTLENKMLSH', 42491.64080000001, 0.4925634295713036], [42459.60210000002], [0.4820647419072616])\n",
      "('Pygoscelis adeliae', ['MAPNLRKSHPLLKMINNSLIDLPTPSNISAWWNFGSLLGICLTTQILTGLLLAMHYTADTTLAFSSIAHTCRDVQYGWLIRNLHANGASFFFICIYLHIGRGLYYGSYLYKETWNTGIILLLTLMATAFVGYVLPWGQMSFWGATVITNLFSAIPYIGQTLVEWAWGGFSVDNPTLTRFFALHFLLPFVIMGLTLIHLTFLHESGSNNPLGIVANSDKIPFHPYYSTKDILGFAFMLLPLTTLALFSPNLLGDPENFTPANPLVTPPHIKPEWYFLFAYAILRSIPNKLGGVLALAASVLILFLIPLLHKSKQRTMAFRPLSQLLFWALVANLAILTWVGSQPVEHPFIIIGQLASLTYFTILLILFPSIGALENKMLNH', 42458.61400000001, 0.49081364829396323], [42459.60210000002], [0.4820647419072616])\n",
      "('Pygoscelis antarctica', ['MAPNLRKSHPLLKMINNSLIDLPTPSNISAWWNFGSLLGICLTTQILTGLLLAMHYTADTTLAFSSIAHTCRDVQYGWLIRNMHANGASLLFICIYLHIGRGVYDGSYLHKETWNTGVILLLTLMATAFVGYVLPWGQMSFWGATVITNLFSAIPYIGQTIVEWAWGGFSVDNPTLTRFFALHFLLPFMITGLTLIHLTFLHESGSNNPLGIVANSDKIPFHPYYSTKDILGFTLMLLPLTTLALFSPNLLGDPENFTPANPLVTPPHIKPEWYFLFAYAILRSIPNKLGGVLALAASVLVLFLSPLLHKSKQRTMAFRPLSQLLFWTLVANLLILTWIGSQPVEHPFIIIGQLASTTYFIILLILFPITSALENKMLNF', 42404.54230000001, 0.4776902887139108], [42459.60210000002], [0.4820647419072616])\n",
      "('Pygoscelis papua', ['MAPNLRKSHPLLKMINKSLIDLPTPPNISAWWNFGSLLGICLITQILTGLLLAMHYTADTTLAFSSIAHTCRNVQYGWLIRNLHANGASFFFICIYFHIGRGLYYGSYLYKETWNTGIILLLTLMATAFVGYVLPWGQMSFWGATVITNLFSAIPYVGQTLVEWAWGGFSVDNPTLTRFFALHFLLPFMITGLTLIHLTFLHESGSNNPLGIVANSDKIPFHPYYSTKDILGFALMLLPLTTLALFSPNLLGDPENFTPANPLVTPPHIKPEWYFLFAYAILRSIPNKLGGVLALAASVLILFLSPLLHKSKQRTMAFRPLSQLLFWTLVANLLILTWIGSQPVEHPFIIIGQLASTTYFIILLILFPITSALENKMLNF', 42595.87590000001, 0.4715660542432196], [42459.60210000002], [0.4820647419072616])\n",
      "('Spheniscus demersus', ['MAPNLRKSHPLLKTINNSLIDLPTPSNISAWWNFGSLLGICLATQILTGLLLAAHYTADTTLAFSSVAHMCRNVQYGWLIRNLHANGASFFFICIYLHIGRGLYYGSYLYKETWNTGIILLLTLMATAFVGYVLPWGQMSFWGATVITNLFSAIPYIGQTLVEWAWGGFSVDNPTLTRFFALHFLLPFMITGLTLIHLTFLHESGSNNPLGIVANSDKIPFHPYYSTKDILGFMLLLLPLTTLALFSPNLLGDPENFTPANPLVTPPHIKPEWYFLFAYAILRSIPNKLGGVLALAASVLILFLMPLLHKSKQRTMAFRPLSQLLFWTLVANLIILTWIGSQPVEHPFIAIGQLASFTYFTTLLILFPLAGALENKMLNH', 42431.54900000002, 0.48293963254593175], [42459.60210000002], [0.4820647419072616])\n",
      "('Spheniscus humboldti', ['MAPNLRKSHPLLKTINNSLIDLPTPSNISAWWNFGSLLSICLATQILTGLLLAAHYTADTTLAFSSVAHMCRNVQYGWLIRNLHANGASFFFICIYLHIGRGLYYGSYLHKETWNTGIILLLTLMATAFVGYVLPWGQMSFWGATVITNLFSAIPYIGQTLVEWAWGGFSVDNPTLTRFFALHFLLPFMITGLALIHLTFLHESGSNNPLGIVANSDKIPFHPYYSTKDILGFMLLLLPLTTLALFSPNLLGDPENFTPANPLVTPPHIKPEWYFLFAYAILRSIPNKLGGVLALAASVLILFLMPLLHKSKQRTMAFRPLSQLLFWTLVANLIILTWVGSQPVEHPFIIIGQLASLTYFTTLLILFPLAGALENKMLNH', 42399.55200000001, 0.4925634295713036], [42459.60210000002], [0.4820647419072616])\n",
      "('Spheniscus magellanicus', ['MAPNLRKSHPLLKTINNSLIDLPTPSNISAWWNFGSLLGICLATQILTGLLLAAHYTADTTLAFSSVAHMCRNVQYGWLIRNLHANGASFFFICIYLHIGRGLYYGSYLYKETWNTGIILLLTLMATAFVGYVLPWGQMSFWGATVITNLFSAIPYIGQTLVEWAWGGFSVDNPTLTRFFALHFLLPFMITGLTLIHLTFLHESGSNNPLGIVANSDKIPFHPYYSTKDILGFMLLLLPLTTLALFSPNLLGDPENFTPANPLVTPPHIKPEWYFLFAYAILRSIPNKLGGVLALAASVLILFLMPLLHKSKQRTMAFRPLSQLLFWTLVANLIILTWVGSQPVEHPFIIIGQLASFTYFTTLLILFPLAGALENKMLNH', 42459.60210000002, 0.4820647419072616], [42459.60210000002], [0.4820647419072616])\n"
     ]
    }
   ],
   "source": [
    "aa_seq = {}\n",
    "for key, value in cytb_seqs.items():\n",
    "    aa_seq = [alternate_translate_function(value), compute_molecular_weight(alternate_translate_function(value)), GC(value)]\n",
    "    my_dict = (key,aa_seq, MW,gc_content)\n",
    "    print(my_dict)"
   ]
  },
  {
   "cell_type": "code",
   "execution_count": 45,
   "id": "48ad49c4",
   "metadata": {},
   "outputs": [
    {
     "ename": "TypeError",
     "evalue": "Field elements must be 2- or 3-tuples, got '[0.4820647419072616]'",
     "output_type": "error",
     "traceback": [
      "\u001b[1;31m---------------------------------------------------------------------------\u001b[0m",
      "\u001b[1;31mTypeError\u001b[0m                                 Traceback (most recent call last)",
      "\u001b[1;32m<ipython-input-45-73b28ad36876>\u001b[0m in \u001b[0;36m<module>\u001b[1;34m\u001b[0m\n\u001b[1;32m----> 1\u001b[1;33m \u001b[0mdf\u001b[0m \u001b[1;33m=\u001b[0m \u001b[0mpd\u001b[0m\u001b[1;33m.\u001b[0m\u001b[0mDataFrame\u001b[0m\u001b[1;33m(\u001b[0m\u001b[1;33m[\u001b[0m\u001b[0mkey\u001b[0m\u001b[1;33m]\u001b[0m\u001b[1;33m,\u001b[0m\u001b[1;33m[\u001b[0m\u001b[0maa_seq\u001b[0m\u001b[1;33m]\u001b[0m\u001b[1;33m,\u001b[0m\u001b[1;33m[\u001b[0m\u001b[0mMW\u001b[0m\u001b[1;33m]\u001b[0m\u001b[1;33m,\u001b[0m\u001b[1;33m[\u001b[0m\u001b[0mgc_content\u001b[0m\u001b[1;33m]\u001b[0m\u001b[1;33m)\u001b[0m\u001b[1;33m\u001b[0m\u001b[1;33m\u001b[0m\u001b[0m\n\u001b[0m\u001b[0;32m      2\u001b[0m \u001b[0mprint\u001b[0m\u001b[1;33m(\u001b[0m\u001b[0mdf\u001b[0m\u001b[1;33m)\u001b[0m\u001b[1;33m\u001b[0m\u001b[1;33m\u001b[0m\u001b[0m\n",
      "\u001b[1;32m~\\Anaconda3\\lib\\site-packages\\pandas\\core\\frame.py\u001b[0m in \u001b[0;36m__init__\u001b[1;34m(self, data, index, columns, dtype, copy)\u001b[0m\n\u001b[0;32m    511\u001b[0m             \u001b[0mdata\u001b[0m \u001b[1;33m=\u001b[0m \u001b[1;33m{\u001b[0m\u001b[1;33m}\u001b[0m\u001b[1;33m\u001b[0m\u001b[1;33m\u001b[0m\u001b[0m\n\u001b[0;32m    512\u001b[0m         \u001b[1;32mif\u001b[0m \u001b[0mdtype\u001b[0m \u001b[1;32mis\u001b[0m \u001b[1;32mnot\u001b[0m \u001b[1;32mNone\u001b[0m\u001b[1;33m:\u001b[0m\u001b[1;33m\u001b[0m\u001b[1;33m\u001b[0m\u001b[0m\n\u001b[1;32m--> 513\u001b[1;33m             \u001b[0mdtype\u001b[0m \u001b[1;33m=\u001b[0m \u001b[0mself\u001b[0m\u001b[1;33m.\u001b[0m\u001b[0m_validate_dtype\u001b[0m\u001b[1;33m(\u001b[0m\u001b[0mdtype\u001b[0m\u001b[1;33m)\u001b[0m\u001b[1;33m\u001b[0m\u001b[1;33m\u001b[0m\u001b[0m\n\u001b[0m\u001b[0;32m    514\u001b[0m \u001b[1;33m\u001b[0m\u001b[0m\n\u001b[0;32m    515\u001b[0m         \u001b[1;32mif\u001b[0m \u001b[0misinstance\u001b[0m\u001b[1;33m(\u001b[0m\u001b[0mdata\u001b[0m\u001b[1;33m,\u001b[0m \u001b[0mDataFrame\u001b[0m\u001b[1;33m)\u001b[0m\u001b[1;33m:\u001b[0m\u001b[1;33m\u001b[0m\u001b[1;33m\u001b[0m\u001b[0m\n",
      "\u001b[1;32m~\\Anaconda3\\lib\\site-packages\\pandas\\core\\generic.py\u001b[0m in \u001b[0;36m_validate_dtype\u001b[1;34m(cls, dtype)\u001b[0m\n\u001b[0;32m    343\u001b[0m         \u001b[1;34m\"\"\" validate the passed dtype \"\"\"\u001b[0m\u001b[1;33m\u001b[0m\u001b[1;33m\u001b[0m\u001b[0m\n\u001b[0;32m    344\u001b[0m         \u001b[1;32mif\u001b[0m \u001b[0mdtype\u001b[0m \u001b[1;32mis\u001b[0m \u001b[1;32mnot\u001b[0m \u001b[1;32mNone\u001b[0m\u001b[1;33m:\u001b[0m\u001b[1;33m\u001b[0m\u001b[1;33m\u001b[0m\u001b[0m\n\u001b[1;32m--> 345\u001b[1;33m             \u001b[0mdtype\u001b[0m \u001b[1;33m=\u001b[0m \u001b[0mpandas_dtype\u001b[0m\u001b[1;33m(\u001b[0m\u001b[0mdtype\u001b[0m\u001b[1;33m)\u001b[0m\u001b[1;33m\u001b[0m\u001b[1;33m\u001b[0m\u001b[0m\n\u001b[0m\u001b[0;32m    346\u001b[0m \u001b[1;33m\u001b[0m\u001b[0m\n\u001b[0;32m    347\u001b[0m             \u001b[1;31m# a compound dtype\u001b[0m\u001b[1;33m\u001b[0m\u001b[1;33m\u001b[0m\u001b[1;33m\u001b[0m\u001b[0m\n",
      "\u001b[1;32m~\\Anaconda3\\lib\\site-packages\\pandas\\core\\dtypes\\common.py\u001b[0m in \u001b[0;36mpandas_dtype\u001b[1;34m(dtype)\u001b[0m\n\u001b[0;32m   1797\u001b[0m     \u001b[1;31m# raise a consistent TypeError if failed\u001b[0m\u001b[1;33m\u001b[0m\u001b[1;33m\u001b[0m\u001b[1;33m\u001b[0m\u001b[0m\n\u001b[0;32m   1798\u001b[0m     \u001b[1;32mtry\u001b[0m\u001b[1;33m:\u001b[0m\u001b[1;33m\u001b[0m\u001b[1;33m\u001b[0m\u001b[0m\n\u001b[1;32m-> 1799\u001b[1;33m         \u001b[0mnpdtype\u001b[0m \u001b[1;33m=\u001b[0m \u001b[0mnp\u001b[0m\u001b[1;33m.\u001b[0m\u001b[0mdtype\u001b[0m\u001b[1;33m(\u001b[0m\u001b[0mdtype\u001b[0m\u001b[1;33m)\u001b[0m\u001b[1;33m\u001b[0m\u001b[1;33m\u001b[0m\u001b[0m\n\u001b[0m\u001b[0;32m   1800\u001b[0m     \u001b[1;32mexcept\u001b[0m \u001b[0mSyntaxError\u001b[0m \u001b[1;32mas\u001b[0m \u001b[0merr\u001b[0m\u001b[1;33m:\u001b[0m\u001b[1;33m\u001b[0m\u001b[1;33m\u001b[0m\u001b[0m\n\u001b[0;32m   1801\u001b[0m         \u001b[1;31m# np.dtype uses `eval` which can raise SyntaxError\u001b[0m\u001b[1;33m\u001b[0m\u001b[1;33m\u001b[0m\u001b[1;33m\u001b[0m\u001b[0m\n",
      "\u001b[1;31mTypeError\u001b[0m: Field elements must be 2- or 3-tuples, got '[0.4820647419072616]'"
     ]
    }
   ],
   "source": [
    "df = pd.DataFrame([key],[aa_seq],[MW],[gc_content])\n",
    "print(df)"
   ]
  },
  {
   "cell_type": "code",
   "execution_count": 113,
   "id": "474dfc4b",
   "metadata": {},
   "outputs": [
    {
     "name": "stdout",
     "output_type": "stream",
     "text": [
      "{'Aptenodytes forsteri': 'MAPNLRKSHPLLKMINNSLIDLPTPSNISAWWNFGSLLGICLTTQILTGLLLAMHYTADTTLAFSSVAHTCRNVQYGWLIRNLHANGASFFFICIYLHIGRGFYYGSYLYKETWNTGIILLLTLMATAFVGYVLPWGQMSFWGATVITNLFSAIPYIGQTLVEWTWGGFSVDNPTLTRFFALHFLLPFMIAGLTLIHLTFLHESGSNNPLGIVANSDKIPFHPYYSTKDILGFALMLLPLTTLALFSPNLLGDPENFTPANPLVTPPHIKPEWYFLFAYAILRSIPNKLGGVLALAASVLILFLIPLLHKSKQRTMAFRPLSQLLFWALVANLIILTWVGSQPVEHPFIIIGQLASLTYFTTLLILFPIAGALENKMLNH', 'Aptenodytes patagonicus': 'MAPNLRKSHPLLKMINNSLIDLPTPSNISAWWNFGSLLGICLTTQILTGLLLAMHYTADTTLAFSSVAHTCRNVQYGWLIRNLHANGASFFFICIYLHIGRGFYYGSYLYKETWNTGIILLLTLMATAFVGYVLPWGQMSFWGATVITNLFSAIPYIGQTLVEWAWGGFSVDNPTLTRFFALHFLLPFMIAGLTLIHLTFLHESGSNNPLGIVANSDKIPFHPYYSTKDTLGFALMLLPLTTLALFSPNLLGDPENFTPANPLVTPPHIKPEWYFLFAYAILRSIPNKLGGVLALAASVLILFLIPLLHKSKQRTMTFRPLSQLLFWTLVANLTILTWIGSQPVEHPFIIIGQLASLTYFTILLILFPLIGTLENKMLNH', 'Eudyptes chrysocome': 'MAPNLRKSHPLLKTINNSLIDLPTPSNISAWWNFGSLLGICLATQILTGLLLAAHYTADTTLAFSSVAHTCRNVQYGWLIRNLHANGASFFFICIYLHIGRGLYYGSYLYKETWNTGIILLLTLMATAFVGYVLPWGQMSFWGATVITNLFSAIPYIGQTLVEWAWGGFSVDNPTLTRFFTLHFLLPFMIAGLTLIHLTFLHESGSNNPLGIVANSDKIPFHPYYSTKDILGFILLLLPLTTLALFSPNLLGDPENFTPANPLVTPPHIKPEWYFLFAYAILRSIPNKLGGVLALAASVLILFLIPLLHKSKQRTMTFRPLSQLLFWTLVANLTILTWIGSQPVEHPFIIIGQLASLTYFTILLILFPLIGTLENKMLNH', 'Eudyptes chrysolophus': 'MAPNLRKSHPLLKTINNSLIDLPTPSNISAWWNFGSLLGICLATQILTGLLLAAHYTADTTLAFSSVAHTCRNVQYGWLIRNLHANGASFFFICIYLHIGRGLYYGSYLYKETWNTGIILLLTLMATAFVGYVLPWGQMSFWGATVITNLFSAIPYIGQTLVEWAWGGFSVDNPTLTRFFTLHFLLPFMIAGLTLIHLTFLHESGSNNPLGIVANSDKIPFHPYYSTKDILGFILLLLPLTALALFSPNLLGDPENFTPANPLVTPPHIKPEWYFLFAYAILRSIPNKLGGVLALAASVLILFLIPLLHKSKQRTMTFRPLSQLLFWTLVANLTILTWIGSQPVEHPFIIIGQLASLTYFTILLILFPLIGTLENKMLNH', 'Eudyptes sclateri': 'MAPNLRKSHPLLKTINNSLIDLPTPSNISAWWNFGSLLGICLATQILTGLLLAAHYTADTTLAFSSVAHTCRNVQYGWLIRNLHANGASFFFICIYLHIGRGLYYGSYLYKETWNTGIILLLTLMATAFVGYVLPWGQMSFWGATVITNLFSAIPYIGQTLVEWAWGGFSVDNPTLTRFFTLHFLLPFMIAGLTLIHLTFLHESGSNNPLGIVANSDKIPFHPYYSTKDILGFILLLLPLTTLALFSPNLLGDPENFTPANPLVTPPHIKPEWYFLFAYAILRSIPNKLGGVLALAASVLILFLIPLLHKSKQRTMTFRPLSQLLFWTLVANLTILTWIGSQPVEHPFIIIGQLASLTYFTILLILFPLIGTLENKMLNH', 'Eudyptula minor': 'MAPNLRKSHPLLKMINNSLIDLPTPSNISTWWNFGSLLGICLITQILTGLLLAAHYTADTTLAFSSIAHTCRNVQYGWLIRNLHANGASFFFICIYLHIGRGLYYGSYLYKETWNTGIILLITLMATAFVGYVLPWGQMSFWGATVITNLFSAIPYIGQTLVEWAWGGFSVDNPTLTRFFALHFLLPFMITGLTLIHLTFLHESGSNNPLGIVANSDKIPFHPYYSTKDILGFILLLLPLTTLALFSPNLLGDPENFTPANPLVTPPHIKPEWYFLFAYAILRSIPNKLGGVLALAASVLILFLIPLLHKSKQRSMAFRPLSQLLFWTLVANLTILTWVGNQPVEHPFIIIGQLASLTYFTILLILFPLAGTLENKMLSH', 'Pygoscelis adeliae': 'MAPNLRKSHPLLKMINNSLIDLPTPSNISAWWNFGSLLGICLTTQILTGLLLAMHYTADTTLAFSSIAHTCRDVQYGWLIRNLHANGASFFFICIYLHIGRGLYYGSYLYKETWNTGIILLLTLMATAFVGYVLPWGQMSFWGATVITNLFSAIPYIGQTLVEWAWGGFSVDNPTLTRFFALHFLLPFVIMGLTLIHLTFLHESGSNNPLGIVANSDKIPFHPYYSTKDILGFAFMLLPLTTLALFSPNLLGDPENFTPANPLVTPPHIKPEWYFLFAYAILRSIPNKLGGVLALAASVLILFLIPLLHKSKQRTMAFRPLSQLLFWALVANLAILTWVGSQPVEHPFIIIGQLASLTYFTILLILFPSIGALENKMLNH', 'Pygoscelis antarctica': 'MAPNLRKSHPLLKMINNSLIDLPTPSNISAWWNFGSLLGICLTTQILTGLLLAMHYTADTTLAFSSIAHTCRDVQYGWLIRNMHANGASLLFICIYLHIGRGVYDGSYLHKETWNTGVILLLTLMATAFVGYVLPWGQMSFWGATVITNLFSAIPYIGQTIVEWAWGGFSVDNPTLTRFFALHFLLPFMITGLTLIHLTFLHESGSNNPLGIVANSDKIPFHPYYSTKDILGFTLMLLPLTTLALFSPNLLGDPENFTPANPLVTPPHIKPEWYFLFAYAILRSIPNKLGGVLALAASVLVLFLSPLLHKSKQRTMAFRPLSQLLFWTLVANLLILTWIGSQPVEHPFIIIGQLASTTYFIILLILFPITSALENKMLNF', 'Pygoscelis papua': 'MAPNLRKSHPLLKMINKSLIDLPTPPNISAWWNFGSLLGICLITQILTGLLLAMHYTADTTLAFSSIAHTCRNVQYGWLIRNLHANGASFFFICIYFHIGRGLYYGSYLYKETWNTGIILLLTLMATAFVGYVLPWGQMSFWGATVITNLFSAIPYVGQTLVEWAWGGFSVDNPTLTRFFALHFLLPFMITGLTLIHLTFLHESGSNNPLGIVANSDKIPFHPYYSTKDILGFALMLLPLTTLALFSPNLLGDPENFTPANPLVTPPHIKPEWYFLFAYAILRSIPNKLGGVLALAASVLILFLSPLLHKSKQRTMAFRPLSQLLFWTLVANLLILTWIGSQPVEHPFIIIGQLASTTYFIILLILFPITSALENKMLNF', 'Spheniscus demersus': 'MAPNLRKSHPLLKTINNSLIDLPTPSNISAWWNFGSLLGICLATQILTGLLLAAHYTADTTLAFSSVAHMCRNVQYGWLIRNLHANGASFFFICIYLHIGRGLYYGSYLYKETWNTGIILLLTLMATAFVGYVLPWGQMSFWGATVITNLFSAIPYIGQTLVEWAWGGFSVDNPTLTRFFALHFLLPFMITGLTLIHLTFLHESGSNNPLGIVANSDKIPFHPYYSTKDILGFMLLLLPLTTLALFSPNLLGDPENFTPANPLVTPPHIKPEWYFLFAYAILRSIPNKLGGVLALAASVLILFLMPLLHKSKQRTMAFRPLSQLLFWTLVANLIILTWIGSQPVEHPFIAIGQLASFTYFTTLLILFPLAGALENKMLNH', 'Spheniscus humboldti': 'MAPNLRKSHPLLKTINNSLIDLPTPSNISAWWNFGSLLSICLATQILTGLLLAAHYTADTTLAFSSVAHMCRNVQYGWLIRNLHANGASFFFICIYLHIGRGLYYGSYLHKETWNTGIILLLTLMATAFVGYVLPWGQMSFWGATVITNLFSAIPYIGQTLVEWAWGGFSVDNPTLTRFFALHFLLPFMITGLALIHLTFLHESGSNNPLGIVANSDKIPFHPYYSTKDILGFMLLLLPLTTLALFSPNLLGDPENFTPANPLVTPPHIKPEWYFLFAYAILRSIPNKLGGVLALAASVLILFLMPLLHKSKQRTMAFRPLSQLLFWTLVANLIILTWVGSQPVEHPFIIIGQLASLTYFTTLLILFPLAGALENKMLNH', 'Spheniscus magellanicus': 'MAPNLRKSHPLLKTINNSLIDLPTPSNISAWWNFGSLLGICLATQILTGLLLAAHYTADTTLAFSSVAHMCRNVQYGWLIRNLHANGASFFFICIYLHIGRGLYYGSYLYKETWNTGIILLLTLMATAFVGYVLPWGQMSFWGATVITNLFSAIPYIGQTLVEWAWGGFSVDNPTLTRFFALHFLLPFMITGLTLIHLTFLHESGSNNPLGIVANSDKIPFHPYYSTKDILGFMLLLLPLTTLALFSPNLLGDPENFTPANPLVTPPHIKPEWYFLFAYAILRSIPNKLGGVLALAASVLILFLMPLLHKSKQRTMAFRPLSQLLFWTLVANLIILTWVGSQPVEHPFIIIGQLASFTYFTTLLILFPLAGALENKMLNH'}\n"
     ]
    }
   ],
   "source": [
    "aa_seq = {}\n",
    "gc_content = {}\n",
    "MW = {}\n",
    "for key, value in cytb_seqs.items():\n",
    "    aa_seq[key] = alternate_translate_function(value)\n",
    "print(aa_seq)"
   ]
  },
  {
   "cell_type": "code",
   "execution_count": 115,
   "id": "a3f50d31",
   "metadata": {},
   "outputs": [
    {
     "ename": "ValueError",
     "evalue": "DataFrame constructor not properly called!",
     "output_type": "error",
     "traceback": [
      "\u001b[1;31m---------------------------------------------------------------------------\u001b[0m",
      "\u001b[1;31mValueError\u001b[0m                                Traceback (most recent call last)",
      "\u001b[1;32m<ipython-input-115-0543723a2ce9>\u001b[0m in \u001b[0;36m<module>\u001b[1;34m\u001b[0m\n\u001b[1;32m----> 1\u001b[1;33m \u001b[0mdf\u001b[0m \u001b[1;33m=\u001b[0m \u001b[0mpd\u001b[0m\u001b[1;33m.\u001b[0m\u001b[0mDataFrame\u001b[0m\u001b[1;33m(\u001b[0m\u001b[0maa_seq\u001b[0m\u001b[1;33m[\u001b[0m\u001b[0mkey\u001b[0m\u001b[1;33m]\u001b[0m\u001b[1;33m)\u001b[0m\u001b[1;33m\u001b[0m\u001b[1;33m\u001b[0m\u001b[0m\n\u001b[0m",
      "\u001b[1;32m~\\Anaconda3\\lib\\site-packages\\pandas\\core\\frame.py\u001b[0m in \u001b[0;36m__init__\u001b[1;34m(self, data, index, columns, dtype, copy)\u001b[0m\n\u001b[0;32m    588\u001b[0m         \u001b[1;32melse\u001b[0m\u001b[1;33m:\u001b[0m\u001b[1;33m\u001b[0m\u001b[1;33m\u001b[0m\u001b[0m\n\u001b[0;32m    589\u001b[0m             \u001b[1;32mif\u001b[0m \u001b[0mindex\u001b[0m \u001b[1;32mis\u001b[0m \u001b[1;32mNone\u001b[0m \u001b[1;32mor\u001b[0m \u001b[0mcolumns\u001b[0m \u001b[1;32mis\u001b[0m \u001b[1;32mNone\u001b[0m\u001b[1;33m:\u001b[0m\u001b[1;33m\u001b[0m\u001b[1;33m\u001b[0m\u001b[0m\n\u001b[1;32m--> 590\u001b[1;33m                 \u001b[1;32mraise\u001b[0m \u001b[0mValueError\u001b[0m\u001b[1;33m(\u001b[0m\u001b[1;34m\"DataFrame constructor not properly called!\"\u001b[0m\u001b[1;33m)\u001b[0m\u001b[1;33m\u001b[0m\u001b[1;33m\u001b[0m\u001b[0m\n\u001b[0m\u001b[0;32m    591\u001b[0m \u001b[1;33m\u001b[0m\u001b[0m\n\u001b[0;32m    592\u001b[0m             \u001b[1;32mif\u001b[0m \u001b[1;32mnot\u001b[0m \u001b[0mdtype\u001b[0m\u001b[1;33m:\u001b[0m\u001b[1;33m\u001b[0m\u001b[1;33m\u001b[0m\u001b[0m\n",
      "\u001b[1;31mValueError\u001b[0m: DataFrame constructor not properly called!"
     ]
    }
   ],
   "source": [
    "df = pd.DataFrame(aa_seq[key])"
   ]
  },
  {
   "cell_type": "code",
   "execution_count": null,
   "id": "24246391",
   "metadata": {},
   "outputs": [],
   "source": [
    "########## Save below me for later ################"
   ]
  },
  {
   "cell_type": "code",
   "execution_count": null,
   "id": "007ae107",
   "metadata": {},
   "outputs": [],
   "source": [
    "translation_string = ''\n",
    "mito_table = CodonTable.unambiguous_dna_by_name[\"Vertebrate Mitochondrial\"]\n",
    "for i in list(penguins_sequence_data.values()):\n",
    "    translation_string += i.translate(table=mito_table, cds=True)\n",
    "print(translation_string)"
   ]
  },
  {
   "cell_type": "code",
   "execution_count": null,
   "id": "4860ae9c",
   "metadata": {},
   "outputs": [],
   "source": [
    "def new_translation(codons): \n",
    "    translation_data_dict = {}\n",
    "    for record in SeqIO.parse(codons, \"fasta\"):    \n",
    "        description = record.description.split() \n",
    "        species_name = description[1] + \" \" + description[2]\n",
    "        translation_data_dict[species_name] = [record.seq.translate(table=mito_table, cds=True)]\n",
    "    return(translation_data_dict) "
   ]
  },
  {
   "cell_type": "code",
   "execution_count": null,
   "id": "5d95dbf8",
   "metadata": {},
   "outputs": [],
   "source": [
    "penguins_translation = new_translation(\"penguins_cytb.fasta\")\n",
    "print(penguins_translation)"
   ]
  },
  {
   "cell_type": "code",
   "execution_count": null,
   "id": "263044fc",
   "metadata": {},
   "outputs": [],
   "source": []
  },
  {
   "cell_type": "code",
   "execution_count": null,
   "id": "905faba4",
   "metadata": {},
   "outputs": [],
   "source": []
  }
 ],
 "metadata": {
  "kernelspec": {
   "display_name": "Python 3",
   "language": "python",
   "name": "python3"
  },
  "language_info": {
   "codemirror_mode": {
    "name": "ipython",
    "version": 3
   },
   "file_extension": ".py",
   "mimetype": "text/x-python",
   "name": "python",
   "nbconvert_exporter": "python",
   "pygments_lexer": "ipython3",
   "version": "3.8.8"
  }
 },
 "nbformat": 4,
 "nbformat_minor": 5
}
